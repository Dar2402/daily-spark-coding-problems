{
 "cells": [
  {
   "cell_type": "code",
   "execution_count": 1,
   "id": "60d21a7a-0877-47a1-8000-5fe0f767b676",
   "metadata": {},
   "outputs": [],
   "source": [
    "from pyspark.sql import SparkSession\n",
    "from pyspark.sql import functions as F, Window as W"
   ]
  },
  {
   "cell_type": "code",
   "execution_count": 2,
   "id": "59817dcc-9c63-4cca-9fc7-92eea2521b61",
   "metadata": {},
   "outputs": [
    {
     "name": "stderr",
     "output_type": "stream",
     "text": [
      "----------------------------------------\n",
      "Exception occurred during processing of request from ('127.0.0.1', 54064)\n",
      "Traceback (most recent call last):\n",
      "  File \"/usr/local/lib/python3.10/socketserver.py\", line 316, in _handle_request_noblock\n",
      "    self.process_request(request, client_address)\n",
      "  File \"/usr/local/lib/python3.10/socketserver.py\", line 347, in process_request\n",
      "    self.finish_request(request, client_address)\n",
      "  File \"/usr/local/lib/python3.10/socketserver.py\", line 360, in finish_request\n",
      "    self.RequestHandlerClass(request, client_address, self)\n",
      "  File \"/usr/local/lib/python3.10/socketserver.py\", line 747, in __init__\n",
      "    self.handle()\n",
      "  File \"/spark/python/pyspark/accumulators.py\", line 295, in handle\n",
      "    poll(accum_updates)\n",
      "  File \"/spark/python/pyspark/accumulators.py\", line 267, in poll\n",
      "    if self.rfile in r and func():\n",
      "  File \"/spark/python/pyspark/accumulators.py\", line 271, in accum_updates\n",
      "    num_updates = read_int(self.rfile)\n",
      "  File \"/spark/python/pyspark/serializers.py\", line 596, in read_int\n",
      "    raise EOFError\n",
      "EOFError\n",
      "----------------------------------------\n"
     ]
    }
   ],
   "source": [
    "spark = SparkSession.builder.master(\"local[*]\").appName(\"Practice\").getOrCreate()"
   ]
  },
  {
   "cell_type": "code",
   "execution_count": 3,
   "id": "b3445e6e-df93-4380-9caa-b67f6efcea59",
   "metadata": {},
   "outputs": [
    {
     "data": {
      "text/plain": [
       "'3.5.1'"
      ]
     },
     "execution_count": 3,
     "metadata": {},
     "output_type": "execute_result"
    }
   ],
   "source": [
    "spark.version"
   ]
  },
  {
   "cell_type": "code",
   "execution_count": 4,
   "id": "ab5de59f-d07e-459e-926e-2b3f71797b8d",
   "metadata": {},
   "outputs": [],
   "source": [
    "data = [\n",
    "    # User u1 - Day 1 (two sessions)\n",
    "    (\"2025-08-28 09:00:00\", \"login\",  \"u1\"),\n",
    "    (\"2025-08-28 09:15:00\", \"click\",  \"u1\"),\n",
    "    (\"2025-08-28 09:30:00\", \"logout\", \"u1\"),\n",
    "\n",
    "    (\"2025-08-28 14:00:00\", \"login\",  \"u1\"),\n",
    "    (\"2025-08-28 14:20:00\", \"scroll\", \"u1\"),\n",
    "    (\"2025-08-28 14:45:00\", \"logout\", \"u1\"),\n",
    "\n",
    "    # User u2 - Day 1 (single long session)\n",
    "    (\"2025-08-28 10:00:00\", \"login\",  \"u2\"),\n",
    "    (\"2025-08-28 10:30:00\", \"purchase\", \"u2\"),\n",
    "    (\"2025-08-28 11:15:00\", \"logout\", \"u2\"),\n",
    "\n",
    "    # User u3 - Day 1 (short session)\n",
    "    (\"2025-08-28 11:00:00\", \"login\",  \"u3\"),\n",
    "    (\"2025-08-28 11:05:00\", \"logout\", \"u3\"),\n",
    "\n",
    "    # User u1 - Day 2\n",
    "    (\"2025-08-29 08:00:00\", \"login\",  \"u1\"),\n",
    "    (\"2025-08-29 08:30:00\", \"click\",  \"u1\"),\n",
    "    (\"2025-08-29 08:45:00\", \"logout\", \"u1\"),\n",
    "\n",
    "    # User u2 - Day 2\n",
    "    (\"2025-08-29 09:15:00\", \"login\",  \"u2\"),\n",
    "    (\"2025-08-29 09:45:00\", \"scroll\", \"u2\"),\n",
    "    (\"2025-08-29 10:15:00\", \"logout\", \"u2\"),\n",
    "\n",
    "    # User u3 - Day 2 (two sessions)\n",
    "    (\"2025-08-29 10:00:00\", \"login\",  \"u3\"),\n",
    "    (\"2025-08-29 10:20:00\", \"logout\", \"u3\"),\n",
    "\n",
    "    (\"2025-08-29 16:00:00\", \"login\",  \"u3\"),\n",
    "    (\"2025-08-29 16:45:00\", \"logout\", \"u3\"),\n",
    "]\n",
    "\n",
    "\n",
    "\n",
    "\n",
    "df = spark.createDataFrame(data, [\"timestamp\", \"event\", \"user_id\"])"
   ]
  },
  {
   "cell_type": "code",
   "execution_count": 5,
   "id": "c2a4a6ab-ced1-43fa-8c42-aa58db3650d8",
   "metadata": {},
   "outputs": [
    {
     "name": "stdout",
     "output_type": "stream",
     "text": [
      "root\n",
      " |-- timestamp: string (nullable = true)\n",
      " |-- event: string (nullable = true)\n",
      " |-- user_id: string (nullable = true)\n",
      "\n"
     ]
    }
   ],
   "source": [
    "df.printSchema()"
   ]
  },
  {
   "cell_type": "code",
   "execution_count": 6,
   "id": "af4af22e-b842-47d8-a4a6-3c5e2467ca2d",
   "metadata": {},
   "outputs": [
    {
     "name": "stdout",
     "output_type": "stream",
     "text": [
      "root\n",
      " |-- timestamp: timestamp (nullable = true)\n",
      " |-- event: string (nullable = true)\n",
      " |-- user_id: string (nullable = true)\n",
      "\n"
     ]
    }
   ],
   "source": [
    "df = df.withColumn(\n",
    "    \"timestamp\",\n",
    "    F.to_timestamp(F.col(\"timestamp\"))\n",
    ")\n",
    "\n",
    "df.printSchema()"
   ]
  },
  {
   "cell_type": "code",
   "execution_count": 7,
   "id": "ca4bf0a5-bde2-460f-a863-8f62f4275fcb",
   "metadata": {},
   "outputs": [
    {
     "name": "stdout",
     "output_type": "stream",
     "text": [
      "+-------------------+--------+-------+\n",
      "|          timestamp|   event|user_id|\n",
      "+-------------------+--------+-------+\n",
      "|2025-08-28 09:00:00|   login|     u1|\n",
      "|2025-08-28 09:15:00|   click|     u1|\n",
      "|2025-08-28 09:30:00|  logout|     u1|\n",
      "|2025-08-28 14:00:00|   login|     u1|\n",
      "|2025-08-28 14:20:00|  scroll|     u1|\n",
      "|2025-08-28 14:45:00|  logout|     u1|\n",
      "|2025-08-28 10:00:00|   login|     u2|\n",
      "|2025-08-28 10:30:00|purchase|     u2|\n",
      "|2025-08-28 11:15:00|  logout|     u2|\n",
      "|2025-08-28 11:00:00|   login|     u3|\n",
      "|2025-08-28 11:05:00|  logout|     u3|\n",
      "|2025-08-29 08:00:00|   login|     u1|\n",
      "|2025-08-29 08:30:00|   click|     u1|\n",
      "|2025-08-29 08:45:00|  logout|     u1|\n",
      "|2025-08-29 09:15:00|   login|     u2|\n",
      "|2025-08-29 09:45:00|  scroll|     u2|\n",
      "|2025-08-29 10:15:00|  logout|     u2|\n",
      "|2025-08-29 10:00:00|   login|     u3|\n",
      "|2025-08-29 10:20:00|  logout|     u3|\n",
      "|2025-08-29 16:00:00|   login|     u3|\n",
      "+-------------------+--------+-------+\n",
      "only showing top 20 rows\n",
      "\n"
     ]
    }
   ],
   "source": [
    "df.show()"
   ]
  },
  {
   "cell_type": "code",
   "execution_count": 8,
   "id": "7b05b644-fb1f-4f43-84bf-b8b2bd85e47f",
   "metadata": {},
   "outputs": [],
   "source": [
    "w = W.partitionBy(\"user_id\").orderBy(\"timestamp\")"
   ]
  },
  {
   "cell_type": "code",
   "execution_count": 9,
   "id": "35b10bf2-41d9-4a1c-ab4c-41ee6ad51570",
   "metadata": {},
   "outputs": [],
   "source": [
    "df = df.filter((F.col(\"event\") == \"login\") | (F.col(\"event\") == \"logout\"))"
   ]
  },
  {
   "cell_type": "code",
   "execution_count": 10,
   "id": "92f351e8-a1f7-4be8-b644-1e536679b1b3",
   "metadata": {},
   "outputs": [
    {
     "name": "stdout",
     "output_type": "stream",
     "text": [
      "+-------------------+------+-------+\n",
      "|          timestamp| event|user_id|\n",
      "+-------------------+------+-------+\n",
      "|2025-08-28 09:00:00| login|     u1|\n",
      "|2025-08-28 09:30:00|logout|     u1|\n",
      "|2025-08-28 14:00:00| login|     u1|\n",
      "|2025-08-28 14:45:00|logout|     u1|\n",
      "|2025-08-28 10:00:00| login|     u2|\n",
      "|2025-08-28 11:15:00|logout|     u2|\n",
      "|2025-08-28 11:00:00| login|     u3|\n",
      "|2025-08-28 11:05:00|logout|     u3|\n",
      "|2025-08-29 08:00:00| login|     u1|\n",
      "|2025-08-29 08:45:00|logout|     u1|\n",
      "|2025-08-29 09:15:00| login|     u2|\n",
      "|2025-08-29 10:15:00|logout|     u2|\n",
      "|2025-08-29 10:00:00| login|     u3|\n",
      "|2025-08-29 10:20:00|logout|     u3|\n",
      "|2025-08-29 16:00:00| login|     u3|\n",
      "|2025-08-29 16:45:00|logout|     u3|\n",
      "+-------------------+------+-------+\n",
      "\n"
     ]
    }
   ],
   "source": [
    "df.show()"
   ]
  },
  {
   "cell_type": "code",
   "execution_count": 11,
   "id": "f286f735-d9c7-4612-9fdf-3d97297412ba",
   "metadata": {},
   "outputs": [],
   "source": [
    "df = df.withColumn(\n",
    "    \"logged_out_timestamp\",\n",
    "    F.lead(F.col(\"timestamp\")).over(w)\n",
    ")"
   ]
  },
  {
   "cell_type": "code",
   "execution_count": 12,
   "id": "f6246b07-1695-4f95-b15d-1147291448c7",
   "metadata": {},
   "outputs": [
    {
     "name": "stdout",
     "output_type": "stream",
     "text": [
      "root\n",
      " |-- timestamp: timestamp (nullable = true)\n",
      " |-- event: string (nullable = true)\n",
      " |-- user_id: string (nullable = true)\n",
      " |-- logged_out_timestamp: timestamp (nullable = true)\n",
      "\n"
     ]
    }
   ],
   "source": [
    "df.printSchema()"
   ]
  },
  {
   "cell_type": "code",
   "execution_count": 13,
   "id": "762ec079-d15f-4580-81e5-d94ecb2d5f6f",
   "metadata": {},
   "outputs": [
    {
     "name": "stdout",
     "output_type": "stream",
     "text": [
      "+-------------------+------+-------+--------------------+\n",
      "|          timestamp| event|user_id|logged_out_timestamp|\n",
      "+-------------------+------+-------+--------------------+\n",
      "|2025-08-28 09:00:00| login|     u1| 2025-08-28 09:30:00|\n",
      "|2025-08-28 09:30:00|logout|     u1| 2025-08-28 14:00:00|\n",
      "|2025-08-28 14:00:00| login|     u1| 2025-08-28 14:45:00|\n",
      "|2025-08-28 14:45:00|logout|     u1| 2025-08-29 08:00:00|\n",
      "|2025-08-29 08:00:00| login|     u1| 2025-08-29 08:45:00|\n",
      "|2025-08-29 08:45:00|logout|     u1|                NULL|\n",
      "|2025-08-28 10:00:00| login|     u2| 2025-08-28 11:15:00|\n",
      "|2025-08-28 11:15:00|logout|     u2| 2025-08-29 09:15:00|\n",
      "|2025-08-29 09:15:00| login|     u2| 2025-08-29 10:15:00|\n",
      "|2025-08-29 10:15:00|logout|     u2|                NULL|\n",
      "|2025-08-28 11:00:00| login|     u3| 2025-08-28 11:05:00|\n",
      "|2025-08-28 11:05:00|logout|     u3| 2025-08-29 10:00:00|\n",
      "|2025-08-29 10:00:00| login|     u3| 2025-08-29 10:20:00|\n",
      "|2025-08-29 10:20:00|logout|     u3| 2025-08-29 16:00:00|\n",
      "|2025-08-29 16:00:00| login|     u3| 2025-08-29 16:45:00|\n",
      "|2025-08-29 16:45:00|logout|     u3|                NULL|\n",
      "+-------------------+------+-------+--------------------+\n",
      "\n"
     ]
    }
   ],
   "source": [
    "df.show()"
   ]
  },
  {
   "cell_type": "code",
   "execution_count": 14,
   "id": "26dbd0bb-9b75-487f-ae67-3a14342c0b3e",
   "metadata": {},
   "outputs": [
    {
     "name": "stdout",
     "output_type": "stream",
     "text": [
      "+-------------------+-----+-------+--------------------+\n",
      "|          timestamp|event|user_id|logged_out_timestamp|\n",
      "+-------------------+-----+-------+--------------------+\n",
      "|2025-08-28 09:00:00|login|     u1| 2025-08-28 09:30:00|\n",
      "|2025-08-28 14:00:00|login|     u1| 2025-08-28 14:45:00|\n",
      "|2025-08-29 08:00:00|login|     u1| 2025-08-29 08:45:00|\n",
      "|2025-08-28 10:00:00|login|     u2| 2025-08-28 11:15:00|\n",
      "|2025-08-29 09:15:00|login|     u2| 2025-08-29 10:15:00|\n",
      "|2025-08-28 11:00:00|login|     u3| 2025-08-28 11:05:00|\n",
      "|2025-08-29 10:00:00|login|     u3| 2025-08-29 10:20:00|\n",
      "|2025-08-29 16:00:00|login|     u3| 2025-08-29 16:45:00|\n",
      "+-------------------+-----+-------+--------------------+\n",
      "\n"
     ]
    }
   ],
   "source": [
    "df = df.filter(F.col(\"event\") == \"login\")\n",
    "\n",
    "df.show()"
   ]
  },
  {
   "cell_type": "code",
   "execution_count": 15,
   "id": "f40563fe-62bd-4157-8a0e-a278f36a34b5",
   "metadata": {},
   "outputs": [
    {
     "name": "stdout",
     "output_type": "stream",
     "text": [
      "+-------------------+-----+-------+--------------------+------------------------------------+\n",
      "|timestamp          |event|user_id|logged_out_timestamp|session_time                        |\n",
      "+-------------------+-----+-------+--------------------+------------------------------------+\n",
      "|2025-08-28 09:00:00|login|u1     |2025-08-28 09:30:00 |INTERVAL '-0 00:30:00' DAY TO SECOND|\n",
      "|2025-08-28 14:00:00|login|u1     |2025-08-28 14:45:00 |INTERVAL '-0 00:45:00' DAY TO SECOND|\n",
      "|2025-08-29 08:00:00|login|u1     |2025-08-29 08:45:00 |INTERVAL '-0 00:45:00' DAY TO SECOND|\n",
      "|2025-08-28 10:00:00|login|u2     |2025-08-28 11:15:00 |INTERVAL '-0 01:15:00' DAY TO SECOND|\n",
      "|2025-08-29 09:15:00|login|u2     |2025-08-29 10:15:00 |INTERVAL '-0 01:00:00' DAY TO SECOND|\n",
      "|2025-08-28 11:00:00|login|u3     |2025-08-28 11:05:00 |INTERVAL '-0 00:05:00' DAY TO SECOND|\n",
      "|2025-08-29 10:00:00|login|u3     |2025-08-29 10:20:00 |INTERVAL '-0 00:20:00' DAY TO SECOND|\n",
      "|2025-08-29 16:00:00|login|u3     |2025-08-29 16:45:00 |INTERVAL '-0 00:45:00' DAY TO SECOND|\n",
      "+-------------------+-----+-------+--------------------+------------------------------------+\n",
      "\n"
     ]
    }
   ],
   "source": [
    "df = df.withColumn(\n",
    "    \"session_time\",\n",
    "   F.col(\"timestamp\") - F.col(\"logged_out_timestamp\")\n",
    ")\n",
    "\n",
    "df.show(truncate=False)"
   ]
  },
  {
   "cell_type": "code",
   "execution_count": 16,
   "id": "6f3b51d1-70b0-4cee-80fd-38e118bb9b25",
   "metadata": {},
   "outputs": [
    {
     "name": "stdout",
     "output_type": "stream",
     "text": [
      "+-------+------------------------------------+\n",
      "|user_id|total_time_spent                    |\n",
      "+-------+------------------------------------+\n",
      "|u1     |INTERVAL '-0 02:00:00' DAY TO SECOND|\n",
      "|u2     |INTERVAL '-0 02:15:00' DAY TO SECOND|\n",
      "|u3     |INTERVAL '-0 01:10:00' DAY TO SECOND|\n",
      "+-------+------------------------------------+\n",
      "\n"
     ]
    }
   ],
   "source": [
    "df.groupby(\"user_id\").agg(\n",
    "    F.sum(\"session_time\").alias(\"total_time_spent\")\n",
    ").show(truncate=False)"
   ]
  },
  {
   "cell_type": "code",
   "execution_count": 17,
   "id": "63d7649a-02e4-4274-b0de-08913d8f7350",
   "metadata": {},
   "outputs": [],
   "source": [
    "data = [\n",
    "    # User u1 - Day 1 (two sessions)\n",
    "    (\"2025-08-28 09:00:00\", \"login\",  \"u1\"),\n",
    "    (\"2025-08-28 09:15:00\", \"click\",  \"u1\"),\n",
    "    (\"2025-08-28 09:30:00\", \"logout\", \"u1\"),\n",
    "\n",
    "    (\"2025-08-28 14:00:00\", \"login\",  \"u1\"),\n",
    "    (\"2025-08-28 14:20:00\", \"scroll\", \"u1\"),\n",
    "    (\"2025-08-28 14:45:00\", \"logout\", \"u1\"),\n",
    "\n",
    "    # User u2 - Day 1 (single long session)\n",
    "    (\"2025-08-28 10:00:00\", \"login\",  \"u2\"),\n",
    "    (\"2025-08-28 10:30:00\", \"purchase\", \"u2\"),\n",
    "    (\"2025-08-28 11:15:00\", \"logout\", \"u2\"),\n",
    "\n",
    "    # User u3 - Day 1 (short session)\n",
    "    (\"2025-08-28 11:00:00\", \"login\",  \"u3\"),\n",
    "    (\"2025-08-28 11:05:00\", \"logout\", \"u3\"),\n",
    "\n",
    "    # User u1 - Day 2\n",
    "    (\"2025-08-29 08:00:00\", \"login\",  \"u1\"),\n",
    "    (\"2025-08-29 08:30:00\", \"click\",  \"u1\"),\n",
    "    (\"2025-08-29 08:45:00\", \"logout\", \"u1\"),\n",
    "\n",
    "    # User u2 - Day 2\n",
    "    (\"2025-08-29 09:15:00\", \"login\",  \"u2\"),\n",
    "    (\"2025-08-29 09:45:00\", \"scroll\", \"u2\"),\n",
    "    (\"2025-08-29 10:15:00\", \"logout\", \"u2\"),\n",
    "\n",
    "    # User u3 - Day 2 (two sessions)\n",
    "    (\"2025-08-29 10:00:00\", \"login\",  \"u3\"),\n",
    "    (\"2025-08-29 10:20:00\", \"logout\", \"u3\"),\n",
    "\n",
    "    (\"2025-08-29 16:00:00\", \"login\",  \"u3\"),\n",
    "    (\"2025-08-29 16:45:00\", \"logout\", \"u3\"),\n",
    "]\n",
    "\n",
    "\n",
    "\n",
    "\n",
    "df = spark.createDataFrame(data, [\"timestamp\", \"event\", \"user_id\"]).withColumn(\n",
    "    \"timestamp\",\n",
    "    F.to_timestamp(F.col(\"timestamp\"))\n",
    ")"
   ]
  },
  {
   "cell_type": "code",
   "execution_count": 18,
   "id": "bcb9e2c4-5508-47cc-8812-f6f9fc4519fa",
   "metadata": {},
   "outputs": [
    {
     "name": "stdout",
     "output_type": "stream",
     "text": [
      "+-------------------+--------+-------+\n",
      "|          timestamp|   event|user_id|\n",
      "+-------------------+--------+-------+\n",
      "|2025-08-28 09:00:00|   login|     u1|\n",
      "|2025-08-28 09:15:00|   click|     u1|\n",
      "|2025-08-28 09:30:00|  logout|     u1|\n",
      "|2025-08-28 14:00:00|   login|     u1|\n",
      "|2025-08-28 14:20:00|  scroll|     u1|\n",
      "|2025-08-28 14:45:00|  logout|     u1|\n",
      "|2025-08-28 10:00:00|   login|     u2|\n",
      "|2025-08-28 10:30:00|purchase|     u2|\n",
      "|2025-08-28 11:15:00|  logout|     u2|\n",
      "|2025-08-28 11:00:00|   login|     u3|\n",
      "|2025-08-28 11:05:00|  logout|     u3|\n",
      "|2025-08-29 08:00:00|   login|     u1|\n",
      "|2025-08-29 08:30:00|   click|     u1|\n",
      "|2025-08-29 08:45:00|  logout|     u1|\n",
      "|2025-08-29 09:15:00|   login|     u2|\n",
      "|2025-08-29 09:45:00|  scroll|     u2|\n",
      "|2025-08-29 10:15:00|  logout|     u2|\n",
      "|2025-08-29 10:00:00|   login|     u3|\n",
      "|2025-08-29 10:20:00|  logout|     u3|\n",
      "|2025-08-29 16:00:00|   login|     u3|\n",
      "+-------------------+--------+-------+\n",
      "only showing top 20 rows\n",
      "\n"
     ]
    }
   ],
   "source": [
    "df.show()"
   ]
  },
  {
   "cell_type": "code",
   "execution_count": 19,
   "id": "400b5692-c074-4b82-b64a-086dc0f2a3da",
   "metadata": {},
   "outputs": [],
   "source": [
    "df = df.withColumn(\n",
    "    \"date\",\n",
    "    F.to_date(F.col(\"timestamp\"))\n",
    ")"
   ]
  },
  {
   "cell_type": "code",
   "execution_count": 21,
   "id": "eee073c0-4e35-4736-9b5c-a2ed0af818fa",
   "metadata": {},
   "outputs": [
    {
     "name": "stdout",
     "output_type": "stream",
     "text": [
      "+-------------------+--------+-------+----------+---+\n",
      "|          timestamp|   event|user_id|      date|day|\n",
      "+-------------------+--------+-------+----------+---+\n",
      "|2025-08-28 09:00:00|   login|     u1|2025-08-28| 28|\n",
      "|2025-08-28 09:15:00|   click|     u1|2025-08-28| 28|\n",
      "|2025-08-28 09:30:00|  logout|     u1|2025-08-28| 28|\n",
      "|2025-08-28 14:00:00|   login|     u1|2025-08-28| 28|\n",
      "|2025-08-28 14:20:00|  scroll|     u1|2025-08-28| 28|\n",
      "|2025-08-28 14:45:00|  logout|     u1|2025-08-28| 28|\n",
      "|2025-08-28 10:00:00|   login|     u2|2025-08-28| 28|\n",
      "|2025-08-28 10:30:00|purchase|     u2|2025-08-28| 28|\n",
      "|2025-08-28 11:15:00|  logout|     u2|2025-08-28| 28|\n",
      "|2025-08-28 11:00:00|   login|     u3|2025-08-28| 28|\n",
      "|2025-08-28 11:05:00|  logout|     u3|2025-08-28| 28|\n",
      "|2025-08-29 08:00:00|   login|     u1|2025-08-29| 29|\n",
      "|2025-08-29 08:30:00|   click|     u1|2025-08-29| 29|\n",
      "|2025-08-29 08:45:00|  logout|     u1|2025-08-29| 29|\n",
      "|2025-08-29 09:15:00|   login|     u2|2025-08-29| 29|\n",
      "|2025-08-29 09:45:00|  scroll|     u2|2025-08-29| 29|\n",
      "|2025-08-29 10:15:00|  logout|     u2|2025-08-29| 29|\n",
      "|2025-08-29 10:00:00|   login|     u3|2025-08-29| 29|\n",
      "|2025-08-29 10:20:00|  logout|     u3|2025-08-29| 29|\n",
      "|2025-08-29 16:00:00|   login|     u3|2025-08-29| 29|\n",
      "+-------------------+--------+-------+----------+---+\n",
      "only showing top 20 rows\n",
      "\n"
     ]
    }
   ],
   "source": [
    "df = df.withColumn(\n",
    "    \"day\",\n",
    "    F.day(F.col(\"date\"))\n",
    ").show()"
   ]
  },
  {
   "cell_type": "code",
   "execution_count": null,
   "id": "f7607303-992f-429e-8569-5bd00a1bb6e5",
   "metadata": {},
   "outputs": [],
   "source": []
  },
  {
   "cell_type": "code",
   "execution_count": null,
   "id": "dfbd6516-d95d-4433-87ce-cb77728b1cde",
   "metadata": {},
   "outputs": [],
   "source": []
  }
 ],
 "metadata": {
  "kernelspec": {
   "display_name": "Python 3 (ipykernel)",
   "language": "python",
   "name": "python3"
  },
  "language_info": {
   "codemirror_mode": {
    "name": "ipython",
    "version": 3
   },
   "file_extension": ".py",
   "mimetype": "text/x-python",
   "name": "python",
   "nbconvert_exporter": "python",
   "pygments_lexer": "ipython3",
   "version": "3.10.18"
  }
 },
 "nbformat": 4,
 "nbformat_minor": 5
}
