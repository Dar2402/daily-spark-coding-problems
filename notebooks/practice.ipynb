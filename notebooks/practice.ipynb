{
 "cells": [
  {
   "cell_type": "markdown",
   "id": "c58b5313d3d2e705",
   "metadata": {},
   "source": [
    "# 📝 Problem: Compute Final Price After Discount\n",
    "\n",
    "## **Problem Statement**\n",
    "You are given a dataset containing the following columns:\n",
    "- **product_id** (String)\n",
    "- **product_name** (String)\n",
    "- **original_price** (Double)\n",
    "- **discount_percentage** (Double)\n",
    "\n",
    "Your task is to compute the **final price** for each product by applying the discount and return the following columns:\n",
    "- **product_id**\n",
    "- **product_name**\n",
    "- **final_price**\n",
    "\n",
    "### Formula\n",
    "\\[\n",
    "final\\_price = original\\_price \\times \\left(1 - \\frac{discount\\_percentage}{100}\\right)\n",
    "\\]\n",
    "\n",
    "---\n",
    "\n",
    "## **Input**\n",
    "- **File Path**: `/datasets/products.csv`\n",
    "\n",
    "### Input Schema\n",
    "| Column              | Type   |\n",
    "|---------------------|--------|\n",
    "| product_id          | String |\n",
    "| product_name        | String |\n",
    "| original_price      | Double |\n",
    "| discount_percentage | Double |\n",
    "\n",
    "### Example Input Table\n",
    "| product_id | product_name | original_price | discount_percentage |\n",
    "|------------|--------------|----------------|---------------------|\n",
    "| P001       | Laptop       | 1000.00        | 10                  |\n",
    "| P002       | Phone        | 800.00         | 5                   |\n",
    "| P003       | Tablet       | 600.00         | 15                  |\n",
    "| P004       | Monitor      | 300.00         | 20                  |\n",
    "| P005       | Keyboard     | 100.00         | 25                  |\n",
    "\n",
    "---\n",
    "\n",
    "## **Output**\n",
    "### Output Schema\n",
    "| Column       | Type   |\n",
    "|--------------|--------|\n",
    "| product_id   | String |\n",
    "| product_name | String |\n",
    "| final_price  | Double |\n",
    "\n",
    "### Example Output Table\n",
    "| product_id | product_name | final_price |\n",
    "|------------|--------------|-------------|\n",
    "| P001       | Laptop       | 900.00      |\n",
    "| P002       | Phone        | 760.00      |\n",
    "| P003       | Tablet       | 510.00      |\n",
    "| P004       | Monitor      | 240.00      |\n",
    "| P005       | Keyboard     | 75.00       |\n",
    "\n",
    "---\n",
    "\n",
    "## **Explanation**\n",
    "The final price is calculated by subtracting the discount from the original price using the formula:\n",
    "\n",
    "\\[\n",
    "final\\_price = original\\_price \\times (1 - discount\\_percentage / 100)\n",
    "\\]\n",
    "\n",
    "The resulting DataFrame `df_result` contains the required output.\n",
    "\n",
    "---"
   ]
  },
  {
   "cell_type": "code",
   "execution_count": 5,
   "id": "initial_id",
   "metadata": {},
   "outputs": [],
   "source": [
    "from pyspark import SparkContext, SparkConf\n",
    "import random"
   ]
  },
  {
   "cell_type": "code",
   "execution_count": 2,
   "id": "26b98bf7-2429-4e5b-bc76-769f7b0d49c3",
   "metadata": {},
   "outputs": [],
   "source": [
    "conf = SparkConf().setAppName(\"sparkPractice\").setMaster(\"local[*]\")"
   ]
  },
  {
   "cell_type": "code",
   "execution_count": 3,
   "id": "c1fb7227-a79c-4996-ad96-88bc53365d50",
   "metadata": {},
   "outputs": [],
   "source": [
    "sc = SparkContext(conf=conf)"
   ]
  },
  {
   "cell_type": "code",
   "execution_count": 4,
   "id": "9e1e5608-8a1c-4db2-99c3-d2b2afdc9d5d",
   "metadata": {},
   "outputs": [
    {
     "data": {
      "text/plain": [
       "8"
      ]
     },
     "execution_count": 4,
     "metadata": {},
     "output_type": "execute_result"
    }
   ],
   "source": [
    "sc.defaultParallelism"
   ]
  },
  {
   "cell_type": "code",
   "execution_count": 6,
   "id": "93dc3ee0-f47d-42d2-821b-2e6fe77d471c",
   "metadata": {},
   "outputs": [
    {
     "data": {
      "text/plain": [
       "[8, 19, 12, 38, 29, 7, 18, 30, 22, 39]"
      ]
     },
     "execution_count": 6,
     "metadata": {},
     "output_type": "execute_result"
    }
   ],
   "source": [
    "random_list = random.sample(\n",
    "    range(1, 41), 10\n",
    ")\n",
    "\n",
    "random_list"
   ]
  },
  {
   "cell_type": "code",
   "execution_count": 13,
   "id": "c12cfc7f-d3aa-4010-be41-6bc9b7067fe2",
   "metadata": {},
   "outputs": [],
   "source": [
    "# RDD of integers\n",
    "rdd1 = sc.parallelize(random_list)\n",
    "\n",
    "# RDD of strings\n",
    "rdd2 = sc.parallelize([\"apple\", \"banana\", \"mango\"])\n",
    "\n",
    "# RDD of tuples (key-value RDD, very common for joins, reduceByKey, etc.)\n",
    "rdd3 = sc.parallelize([(\"a\", 1), (\"b\", 2), (\"a\", 3)])\n",
    "\n",
    "# RDD of lists\n",
    "rdd4 = sc.parallelize([[1, 2], [3, 4], [5, 6]])\n",
    "\n",
    "# RDD of dictionaries\n",
    "rdd5 = sc.parallelize([{\"id\": 1, \"name\": \"Darshan\"}, {\"id\": 2, \"name\": \"Pandey\"}])\n"
   ]
  },
  {
   "cell_type": "code",
   "execution_count": 15,
   "id": "0af7d305-2d3d-4cf0-896b-5029224dc767",
   "metadata": {},
   "outputs": [
    {
     "data": {
      "text/plain": [
       "[{'id': 1, 'name': 'Darshan'}, {'id': 2, 'name': 'Pandey'}]"
      ]
     },
     "execution_count": 15,
     "metadata": {},
     "output_type": "execute_result"
    }
   ],
   "source": [
    "rdd5.collect()"
   ]
  },
  {
   "cell_type": "code",
   "execution_count": null,
   "id": "36e4001d-e927-4702-a747-38bc5cadfa46",
   "metadata": {},
   "outputs": [],
   "source": []
  }
 ],
 "metadata": {
  "kernelspec": {
   "display_name": "Python 3 (ipykernel)",
   "language": "python",
   "name": "python3"
  },
  "language_info": {
   "codemirror_mode": {
    "name": "ipython",
    "version": 3
   },
   "file_extension": ".py",
   "mimetype": "text/x-python",
   "name": "python",
   "nbconvert_exporter": "python",
   "pygments_lexer": "ipython3",
   "version": "3.10.16"
  }
 },
 "nbformat": 4,
 "nbformat_minor": 5
}
