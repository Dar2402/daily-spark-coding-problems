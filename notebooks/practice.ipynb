{
 "cells": [
  {
   "cell_type": "code",
   "execution_count": 1,
   "id": "a9e0d353-7cc5-4854-9c79-454b602e0317",
   "metadata": {},
   "outputs": [
    {
     "name": "stdout",
     "output_type": "stream",
     "text": [
      "Requirement already satisfied: fpdf2 in /usr/local/lib/python3.10/site-packages (2.8.4)\n",
      "Requirement already satisfied: reportlab in /usr/local/lib/python3.10/site-packages (4.4.3)\n",
      "Requirement already satisfied: defusedxml in /usr/local/lib/python3.10/site-packages (from fpdf2) (0.7.1)\n",
      "Requirement already satisfied: Pillow!=9.2.*,>=8.0.0 in /usr/local/lib/python3.10/site-packages (from fpdf2) (11.3.0)\n",
      "Requirement already satisfied: fonttools>=4.34.0 in /usr/local/lib/python3.10/site-packages (from fpdf2) (4.59.2)\n",
      "Requirement already satisfied: charset-normalizer in /usr/local/lib/python3.10/site-packages (from reportlab) (3.4.3)\n",
      "\u001b[33mWARNING: Running pip as the 'root' user can result in broken permissions and conflicting behaviour with the system package manager, possibly rendering your system unusable. It is recommended to use a virtual environment instead: https://pip.pypa.io/warnings/venv. Use the --root-user-action option if you know what you are doing and want to suppress this warning.\u001b[0m\u001b[33m\n",
      "\u001b[0m"
     ]
    }
   ],
   "source": [
    "!pip install fpdf2 reportlab"
   ]
  },
  {
   "cell_type": "markdown",
   "id": "c58b5313d3d2e705",
   "metadata": {},
   "source": [
    "# 📝 Problem: Compute Final Price After Discount\n",
    "\n",
    "## **Problem Statement**\n",
    "You are given a dataset containing the following columns:\n",
    "- **product_id** (String)\n",
    "- **product_name** (String)\n",
    "- **original_price** (Double)\n",
    "- **discount_percentage** (Double)\n",
    "\n",
    "Your task is to compute the **final price** for each product by applying the discount and return the following columns:\n",
    "- **product_id**\n",
    "- **product_name**\n",
    "- **final_price**\n",
    "\n",
    "### Formula\n",
    "\\[\n",
    "final\\_price = original\\_price \\times \\left(1 - \\frac{discount\\_percentage}{100}\\right)\n",
    "\\]\n",
    "\n",
    "---\n",
    "\n",
    "## **Input**\n",
    "- **File Path**: `/datasets/products.csv`\n",
    "\n",
    "### Input Schema\n",
    "| Column              | Type   |\n",
    "|---------------------|--------|\n",
    "| product_id          | String |\n",
    "| product_name        | String |\n",
    "| original_price      | Double |\n",
    "| discount_percentage | Double |\n",
    "\n",
    "### Example Input Table\n",
    "| product_id | product_name | original_price | discount_percentage |\n",
    "|------------|--------------|----------------|---------------------|\n",
    "| P001       | Laptop       | 1000.00        | 10                  |\n",
    "| P002       | Phone        | 800.00         | 5                   |\n",
    "| P003       | Tablet       | 600.00         | 15                  |\n",
    "| P004       | Monitor      | 300.00         | 20                  |\n",
    "| P005       | Keyboard     | 100.00         | 25                  |\n",
    "\n",
    "---\n",
    "\n",
    "## **Output**\n",
    "### Output Schema\n",
    "| Column       | Type   |\n",
    "|--------------|--------|\n",
    "| product_id   | String |\n",
    "| product_name | String |\n",
    "| final_price  | Double |\n",
    "\n",
    "### Example Output Table\n",
    "| product_id | product_name | final_price |\n",
    "|------------|--------------|-------------|\n",
    "| P001       | Laptop       | 900.00      |\n",
    "| P002       | Phone        | 760.00      |\n",
    "| P003       | Tablet       | 510.00      |\n",
    "| P004       | Monitor      | 240.00      |\n",
    "| P005       | Keyboard     | 75.00       |\n",
    "\n",
    "---\n",
    "\n",
    "## **Explanation**\n",
    "The final price is calculated by subtracting the discount from the original price using the formula:\n",
    "\n",
    "\\[\n",
    "final\\_price = original\\_price \\times (1 - discount\\_percentage / 100)\n",
    "\\]\n",
    "\n",
    "The resulting DataFrame `df_result` contains the required output.\n",
    "\n",
    "---"
   ]
  },
  {
   "cell_type": "code",
   "execution_count": 2,
   "id": "initial_id",
   "metadata": {},
   "outputs": [],
   "source": [
    "from pyspark.sql import SparkSession\n",
    "from reportlab.lib.pagesizes import letter\n",
    "from reportlab.platypus import SimpleDocTemplate, Table, TableStyle, Spacer, Paragraph\n",
    "from reportlab.lib import colors\n",
    "from reportlab.lib.styles import getSampleStyleSheet\n",
    "from reportlab.graphics.shapes import Drawing, Rect\n",
    "import os\n",
    "import uuid"
   ]
  },
  {
   "cell_type": "code",
   "execution_count": 3,
   "id": "e257aaf6-5e69-4fd7-8244-58d2030dde9b",
   "metadata": {},
   "outputs": [],
   "source": [
    "spark = SparkSession.builder \\\n",
    "    .appName(\"PostgresTablesToPDF\") \\\n",
    "    .config(\"spark.executor.memory\", \"2g\") \\\n",
    "    .config(\"spark.driver.memory\", \"2g\") \\\n",
    "    .config(\"spark.sql.shuffle.partitions\", \"10\") \\\n",
    "    .config(\"spark.jars.packages\", \"org.postgresql:postgresql:42.6.0\") \\\n",
    "    .getOrCreate()"
   ]
  },
  {
   "cell_type": "code",
   "execution_count": 4,
   "id": "e235269e-3eb4-4d2d-83fd-3e0c52f8f520",
   "metadata": {},
   "outputs": [],
   "source": [
    "db_type = \"postgresql\"\n",
    "host = \"172.18.0.2\"\n",
    "port = 5432\n",
    "database = \"ecommerce\"\n",
    "user = \"postgres\"\n",
    "password = \"iaCkmHPhuyhFLEBDGdwxQGGqlHvdgWJA\"\n",
    "\n",
    "jdbc_url = f\"jdbc:{db_type}://{host}:{port}/{database}\"\n",
    "properties = {\n",
    "    \"user\": user,\n",
    "    \"password\": password,\n",
    "    \"driver\": \"org.postgresql.Driver\"\n",
    "}"
   ]
  },
  {
   "cell_type": "code",
   "execution_count": 5,
   "id": "36e4001d-e927-4702-a747-38bc5cadfa46",
   "metadata": {},
   "outputs": [],
   "source": [
    "query = \"(SELECT table_name FROM information_schema.tables WHERE table_schema='public') AS table_list\"\n",
    "tables_df = spark.read.jdbc(url=jdbc_url, table=query, properties=properties)\n",
    "table_names = [row['table_name'] for row in tables_df.collect()]"
   ]
  },
  {
   "cell_type": "code",
   "execution_count": 6,
   "id": "a0aef719-2a61-4a6f-afa6-2c044868874a",
   "metadata": {},
   "outputs": [
    {
     "data": {
      "text/plain": [
       "['shipment',\n",
       " 'user',\n",
       " 'user_role',\n",
       " 'role',\n",
       " 'delivery_partner',\n",
       " 'address',\n",
       " 'settlement',\n",
       " 'shipment_event',\n",
       " 'package',\n",
       " 'seller',\n",
       " 'category',\n",
       " 'product',\n",
       " 'brand',\n",
       " 'product_variant',\n",
       " 'product_media',\n",
       " 'warehouse',\n",
       " 'inventory',\n",
       " 'inventory_movement',\n",
       " 'reservation',\n",
       " 'cart',\n",
       " 'cart_item',\n",
       " 'wishlist',\n",
       " 'wishlist_item',\n",
       " 'payment_method',\n",
       " 'return',\n",
       " 'review',\n",
       " 'order',\n",
       " 'order_item',\n",
       " 'payment',\n",
       " 'refund',\n",
       " 'chargeback',\n",
       " 'promotion_applied',\n",
       " 'promotion',\n",
       " 'campaign',\n",
       " 'vendor_fee',\n",
       " 'dispute',\n",
       " 'support_ticket',\n",
       " 'ticket_event']"
      ]
     },
     "execution_count": 6,
     "metadata": {},
     "output_type": "execute_result"
    }
   ],
   "source": [
    "table_names"
   ]
  },
  {
   "cell_type": "code",
   "execution_count": 7,
   "id": "44d97d72-4637-44f5-b437-726d01b712d5",
   "metadata": {},
   "outputs": [],
   "source": [
    "output_dir = \"/home/jupyter/work/data/pdf_tables\"\n",
    "os.makedirs(output_dir, exist_ok=True)"
   ]
  },
  {
   "cell_type": "code",
   "execution_count": 8,
   "id": "d92877f7-8c07-4f06-86b6-363599add740",
   "metadata": {},
   "outputs": [],
   "source": [
    "def write_table_to_pdf(df, table_name):\n",
    "    pdf_path = os.path.join(output_dir, f\"{table_name}.pdf\")\n",
    "    pdf_doc = SimpleDocTemplate(pdf_path, pagesize=letter)\n",
    "    elements = []\n",
    "    styles = getSampleStyleSheet()\n",
    "\n",
    "    company_para = Paragraph(\"My Company\", styles['Title'])\n",
    "\n",
    "    drawing = Drawing(50, 50)\n",
    "    drawing.add(Rect(0, 0, 50, 50, strokeWidth=1, strokeColor=colors.black, fillColor=colors.lightgrey))\n",
    "\n",
    "    header_table = Table([[company_para, drawing]], colWidths=[400, 100])\n",
    "    header_table.setStyle(TableStyle([\n",
    "        ('VALIGN', (0,0), (-1,-1), 'MIDDLE'),\n",
    "        ('ALIGN', (0,0), (0,0), 'LEFT'),\n",
    "        ('ALIGN', (1,0), (1,0), 'RIGHT'),\n",
    "        ('BOTTOMPADDING', (0,0), (-1,-1), 12)\n",
    "    ]))\n",
    "    elements.append(header_table)\n",
    "    elements.append(Spacer(1, 20)) \n",
    "\n",
    "    data = df.limit(10).collect()\n",
    "    if not data:\n",
    "        return\n",
    "\n",
    "    for row in data:\n",
    "        row_data = []\n",
    "        for col in df.columns:\n",
    "            row_data.append([col, row[col]]) \n",
    "\n",
    "        t = Table(row_data, colWidths=[150, 300])\n",
    "        t.setStyle(TableStyle([\n",
    "            ('GRID', (0,0), (-1,-1), 0.5, colors.black),\n",
    "            ('BACKGROUND', (0,0), (-1,0), colors.lightgrey),\n",
    "            ('VALIGN', (0,0), (-1,-1), 'MIDDLE'),\n",
    "            ('LEFTPADDING', (0,0), (-1,-1), 5),\n",
    "            ('RIGHTPADDING', (0,0), (-1,-1), 5),\n",
    "        ]))\n",
    "        elements.append(t)\n",
    "        elements.append(Spacer(1, 10)) "
   ]
  },
  {
   "cell_type": "code",
   "execution_count": 9,
   "id": "b1bcbc89-9518-4d8a-9549-27cb53416780",
   "metadata": {},
   "outputs": [],
   "source": [
    "df = spark.read.jdbc(url=jdbc_url, table=table_names[0], properties=properties)\n",
    "write_table_to_pdf(df, table_names[0])"
   ]
  },
  {
   "cell_type": "code",
   "execution_count": null,
   "id": "257ea831-52b3-44e7-a09e-d2fea1999f11",
   "metadata": {},
   "outputs": [],
   "source": []
  }
 ],
 "metadata": {
  "kernelspec": {
   "display_name": "Python 3 (ipykernel)",
   "language": "python",
   "name": "python3"
  },
  "language_info": {
   "codemirror_mode": {
    "name": "ipython",
    "version": 3
   },
   "file_extension": ".py",
   "mimetype": "text/x-python",
   "name": "python",
   "nbconvert_exporter": "python",
   "pygments_lexer": "ipython3",
   "version": "3.10.18"
  }
 },
 "nbformat": 4,
 "nbformat_minor": 5
}
