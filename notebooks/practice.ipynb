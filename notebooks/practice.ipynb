{
 "cells": [
  {
   "metadata": {},
   "cell_type": "markdown",
   "source": [
    "# 📝 Problem: Compute Final Price After Discount\n",
    "\n",
    "## **Problem Statement**\n",
    "You are given a dataset containing the following columns:\n",
    "- **product_id** (String)\n",
    "- **product_name** (String)\n",
    "- **original_price** (Double)\n",
    "- **discount_percentage** (Double)\n",
    "\n",
    "Your task is to compute the **final price** for each product by applying the discount and return the following columns:\n",
    "- **product_id**\n",
    "- **product_name**\n",
    "- **final_price**\n",
    "\n",
    "### Formula\n",
    "\\[\n",
    "final\\_price = original\\_price \\times \\left(1 - \\frac{discount\\_percentage}{100}\\right)\n",
    "\\]\n",
    "\n",
    "---\n",
    "\n",
    "## **Input**\n",
    "- **File Path**: `/datasets/products.csv`\n",
    "\n",
    "### Input Schema\n",
    "| Column              | Type   |\n",
    "|---------------------|--------|\n",
    "| product_id          | String |\n",
    "| product_name        | String |\n",
    "| original_price      | Double |\n",
    "| discount_percentage | Double |\n",
    "\n",
    "### Example Input Table\n",
    "| product_id | product_name | original_price | discount_percentage |\n",
    "|------------|--------------|----------------|---------------------|\n",
    "| P001       | Laptop       | 1000.00        | 10                  |\n",
    "| P002       | Phone        | 800.00         | 5                   |\n",
    "| P003       | Tablet       | 600.00         | 15                  |\n",
    "| P004       | Monitor      | 300.00         | 20                  |\n",
    "| P005       | Keyboard     | 100.00         | 25                  |\n",
    "\n",
    "---\n",
    "\n",
    "## **Output**\n",
    "### Output Schema\n",
    "| Column       | Type   |\n",
    "|--------------|--------|\n",
    "| product_id   | String |\n",
    "| product_name | String |\n",
    "| final_price  | Double |\n",
    "\n",
    "### Example Output Table\n",
    "| product_id | product_name | final_price |\n",
    "|------------|--------------|-------------|\n",
    "| P001       | Laptop       | 900.00      |\n",
    "| P002       | Phone        | 760.00      |\n",
    "| P003       | Tablet       | 510.00      |\n",
    "| P004       | Monitor      | 240.00      |\n",
    "| P005       | Keyboard     | 75.00       |\n",
    "\n",
    "---\n",
    "\n",
    "## **Explanation**\n",
    "The final price is calculated by subtracting the discount from the original price using the formula:\n",
    "\n",
    "\\[\n",
    "final\\_price = original\\_price \\times (1 - discount\\_percentage / 100)\n",
    "\\]\n",
    "\n",
    "The resulting DataFrame `df_result` contains the required output.\n",
    "\n",
    "---"
   ],
   "id": "c58b5313d3d2e705"
  },
  {
   "cell_type": "code",
   "execution_count": null,
   "id": "initial_id",
   "metadata": {
    "collapsed": true
   },
   "outputs": [],
   "source": [
    ""
   ]
  }
 ],
 "metadata": {
  "kernelspec": {
   "display_name": "Python 3",
   "language": "python",
   "name": "python3"
  },
  "language_info": {
   "codemirror_mode": {
    "name": "ipython",
    "version": 2
   },
   "file_extension": ".py",
   "mimetype": "text/x-python",
   "name": "python",
   "nbconvert_exporter": "python",
   "pygments_lexer": "ipython2",
   "version": "2.7.6"
  }
 },
 "nbformat": 4,
 "nbformat_minor": 5
}
