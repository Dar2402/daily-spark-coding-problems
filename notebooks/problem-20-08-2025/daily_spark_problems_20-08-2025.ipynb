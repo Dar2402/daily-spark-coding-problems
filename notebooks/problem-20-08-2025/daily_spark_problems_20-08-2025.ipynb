{
 "cells": [
  {
   "cell_type": "code",
   "id": "33eec3f6-638b-4534-aa80-3b0cca02190a",
   "metadata": {
    "ExecuteTime": {
     "end_time": "2025-08-20T10:52:52.709945Z",
     "start_time": "2025-08-20T10:52:52.701190Z"
    }
   },
   "source": [
    "from pyspark.sql import SparkSession, functions as F, Window"
   ],
   "outputs": [],
   "execution_count": 2
  },
  {
   "cell_type": "code",
   "id": "fbf0908a-5a68-4d89-9bb3-00684bdd775b",
   "metadata": {
    "ExecuteTime": {
     "end_time": "2025-08-20T10:52:56.891915Z",
     "start_time": "2025-08-20T10:52:53.452729Z"
    }
   },
   "source": [
    "spark = SparkSession.builder.appName(\"DailyCodingProblem\").getOrCreate()"
   ],
   "outputs": [],
   "execution_count": 3
  },
  {
   "cell_type": "markdown",
   "id": "3ed93eeb-7935-4bf8-9e14-9edbc2441d3a",
   "metadata": {},
   "source": [
    "# 📝 Problem 1: PySpark – Find Top N Products per Category\n",
    "\n",
    "### **Problem Statement**\n",
    "\n",
    "You have a PySpark DataFrame containing product sales. Each product belongs to a category, and you need to find the **top 2 products by sales amount within each category**.\n",
    "\n",
    "### **Sample Input** (`products`)\n",
    "\n",
    "| category    | product | sales |\n",
    "| ----------- | ------- | ----- |\n",
    "| Electronics | Laptop  | 1200  |\n",
    "| Electronics | Phone   | 900   |\n",
    "| Electronics | Tablet  | 700   |\n",
    "| Clothing    | Shirt   | 400   |\n",
    "| Clothing    | Jeans   | 600   |\n",
    "| Clothing    | Jacket  | 800   |\n",
    "\n",
    "### **Expected Output**\n",
    "\n",
    "| category    | product | sales |\n",
    "| ----------- | ------- | ----- |\n",
    "| Electronics | Laptop  | 1200  |\n",
    "| Electronics | Phone   | 900   |\n",
    "| Clothing    | Jacket  | 800   |\n",
    "| Clothing    | Jeans   | 600   |\n",
    "\n",
    "---"
   ]
  },
  {
   "cell_type": "code",
   "id": "636430c3-a7f1-42f9-9efb-05922b0fea80",
   "metadata": {
    "ExecuteTime": {
     "end_time": "2025-08-20T10:53:04.937884Z",
     "start_time": "2025-08-20T10:53:00.072599Z"
    }
   },
   "source": [
    "data = [\n",
    "    {\"category\": \"Electronics\", \"product\": \"Laptop\", \"sales\": 1200},\n",
    "    {\"category\": \"Electronics\", \"product\": \"Phone\", \"sales\": 900},\n",
    "    {\"category\": \"Electronics\", \"product\": \"Tablet\", \"sales\": 700},\n",
    "    {\"category\": \"Clothing\", \"product\": \"Shirt\", \"sales\": 400},\n",
    "    {\"category\": \"Clothing\", \"product\": \"Jeans\", \"sales\": 600},\n",
    "    {\"category\": \"Clothing\", \"product\": \"Jacket\", \"sales\": 800},\n",
    "]\n",
    "\n",
    "\n",
    "df = spark.createDataFrame(data)\n",
    "df.show()"
   ],
   "outputs": [
    {
     "name": "stdout",
     "output_type": "stream",
     "text": [
      "+-----------+-------+-----+\n",
      "|   category|product|sales|\n",
      "+-----------+-------+-----+\n",
      "|Electronics| Laptop| 1200|\n",
      "|Electronics|  Phone|  900|\n",
      "|Electronics| Tablet|  700|\n",
      "|   Clothing|  Shirt|  400|\n",
      "|   Clothing|  Jeans|  600|\n",
      "|   Clothing| Jacket|  800|\n",
      "+-----------+-------+-----+\n",
      "\n"
     ]
    }
   ],
   "execution_count": 4
  },
  {
   "metadata": {
    "ExecuteTime": {
     "end_time": "2025-08-20T10:58:27.586697Z",
     "start_time": "2025-08-20T10:58:27.549223Z"
    }
   },
   "cell_type": "code",
   "source": "w = Window.partitionBy(\"category\").orderBy(F.col(\"sales\").desc())",
   "id": "139877c37188bcd2",
   "outputs": [],
   "execution_count": 8
  },
  {
   "metadata": {
    "ExecuteTime": {
     "end_time": "2025-08-20T10:58:29.435652Z",
     "start_time": "2025-08-20T10:58:28.869816Z"
    }
   },
   "cell_type": "code",
   "source": [
    "df = df.withColumn(\n",
    "    \"id\",\n",
    "    F.row_number().over(w)\n",
    ")\n",
    "\n",
    "\n",
    "df.show()"
   ],
   "id": "1f2a72d29e3bf9da",
   "outputs": [
    {
     "name": "stdout",
     "output_type": "stream",
     "text": [
      "+-----------+-------+-----+---+\n",
      "|   category|product|sales| id|\n",
      "+-----------+-------+-----+---+\n",
      "|   Clothing| Jacket|  800|  1|\n",
      "|   Clothing|  Jeans|  600|  2|\n",
      "|   Clothing|  Shirt|  400|  3|\n",
      "|Electronics| Laptop| 1200|  1|\n",
      "|Electronics|  Phone|  900|  2|\n",
      "|Electronics| Tablet|  700|  3|\n",
      "+-----------+-------+-----+---+\n",
      "\n"
     ]
    }
   ],
   "execution_count": 9
  },
  {
   "metadata": {
    "ExecuteTime": {
     "end_time": "2025-08-20T11:00:12.182127Z",
     "start_time": "2025-08-20T11:00:11.557530Z"
    }
   },
   "cell_type": "code",
   "source": [
    "df = df.filter(F.col(\"id\") <= 2).drop(F.col(\"id\")).orderBy(F.col(\"sales\").desc())\n",
    "\n",
    "df.show()"
   ],
   "id": "eac38dfbfbf2c484",
   "outputs": [
    {
     "name": "stdout",
     "output_type": "stream",
     "text": [
      "+-----------+-------+-----+\n",
      "|   category|product|sales|\n",
      "+-----------+-------+-----+\n",
      "|Electronics| Laptop| 1200|\n",
      "|Electronics|  Phone|  900|\n",
      "|   Clothing| Jacket|  800|\n",
      "|   Clothing|  Jeans|  600|\n",
      "+-----------+-------+-----+\n",
      "\n"
     ]
    }
   ],
   "execution_count": 11
  },
  {
   "cell_type": "markdown",
   "id": "a0d9451f-9870-4d2d-a8e9-c2f57569d860",
   "metadata": {},
   "source": [
    "# 📝 Problem 2: SQL – Calculate Running Balance\n",
    "\n",
    "### **Problem Statement**\n",
    "\n",
    "You are given a SQL table `transactions(user_id, txn_date, amount)` where **amount** can be positive (credit) or negative (debit). Write a SQL query to calculate the **running balance** for each user ordered by `txn_date`.\n",
    "\n",
    "### **Sample Input** (`transactions`)\n",
    "\n",
    "| user\\_id | txn\\_date  | amount |\n",
    "| -------- | ---------- | ------ |\n",
    "| 1        | 2025-01-01 | 500    |\n",
    "| 1        | 2025-01-03 | -200   |\n",
    "| 1        | 2025-01-05 | 300    |\n",
    "| 2        | 2025-01-02 | 1000   |\n",
    "| 2        | 2025-01-04 | -400   |\n",
    "\n",
    "### **Expected Output**\n",
    "\n",
    "| user\\_id | txn\\_date  | amount | running\\_balance |\n",
    "| -------- | ---------- | ------ | ---------------- |\n",
    "| 1        | 2025-01-01 | 500    | 500              |\n",
    "| 1        | 2025-01-03 | -200   | 300              |\n",
    "| 1        | 2025-01-05 | 300    | 600              |\n",
    "| 2        | 2025-01-02 | 1000   | 1000             |\n",
    "| 2        | 2025-01-04 | -400   | 600              |\n",
    "\n",
    "---"
   ]
  },
  {
   "cell_type": "code",
   "id": "b9bd16dd-d046-4609-a2bd-a17b7ba4e6bb",
   "metadata": {
    "ExecuteTime": {
     "end_time": "2025-08-20T11:42:37.589045Z",
     "start_time": "2025-08-20T11:42:36.982821Z"
    }
   },
   "source": [
    "data = [\n",
    "    {\"user_id\": 1, \"txn_date\": \"2025-01-01\", \"amount\": 500},\n",
    "    {\"user_id\": 1, \"txn_date\": \"2025-01-03\", \"amount\": -200},\n",
    "    {\"user_id\": 1, \"txn_date\": \"2025-01-05\", \"amount\": 300},\n",
    "    {\"user_id\": 2, \"txn_date\": \"2025-01-02\", \"amount\": 1000},\n",
    "    {\"user_id\": 2, \"txn_date\": \"2025-01-04\", \"amount\": -400},\n",
    "]\n",
    "\n",
    "\n",
    "df = spark.createDataFrame(data)\n",
    "\n",
    "df = df.withColumn(\n",
    "  \"txn_date\",\n",
    "  F.to_date(F.col(\"txn_date\"))\n",
    ")\n",
    "\n",
    "\n",
    "df.show()"
   ],
   "outputs": [
    {
     "name": "stdout",
     "output_type": "stream",
     "text": [
      "+------+----------+-------+\n",
      "|amount|  txn_date|user_id|\n",
      "+------+----------+-------+\n",
      "|   500|2025-01-01|      1|\n",
      "|  -200|2025-01-03|      1|\n",
      "|   300|2025-01-05|      1|\n",
      "|  1000|2025-01-02|      2|\n",
      "|  -400|2025-01-04|      2|\n",
      "+------+----------+-------+\n",
      "\n"
     ]
    }
   ],
   "execution_count": 12
  },
  {
   "cell_type": "code",
   "id": "2a789b04-35bc-4277-bf53-92478df0d51d",
   "metadata": {
    "ExecuteTime": {
     "end_time": "2025-08-20T11:42:41.492092Z",
     "start_time": "2025-08-20T11:42:41.469064Z"
    }
   },
   "source": [
    "df.printSchema()"
   ],
   "outputs": [
    {
     "name": "stdout",
     "output_type": "stream",
     "text": [
      "root\n",
      " |-- amount: long (nullable = true)\n",
      " |-- txn_date: date (nullable = true)\n",
      " |-- user_id: long (nullable = true)\n",
      "\n"
     ]
    }
   ],
   "execution_count": 13
  },
  {
   "cell_type": "code",
   "id": "ae5a476f-3e10-4689-9136-36836bfaba0c",
   "metadata": {
    "ExecuteTime": {
     "end_time": "2025-08-20T11:42:54.323455Z",
     "start_time": "2025-08-20T11:42:54.291421Z"
    }
   },
   "source": "w = Window.partitionBy(\"user_id\").orderBy(\"txn_date\")",
   "outputs": [],
   "execution_count": 14
  },
  {
   "metadata": {
    "ExecuteTime": {
     "end_time": "2025-08-20T11:47:29.302973Z",
     "start_time": "2025-08-20T11:47:28.670538Z"
    }
   },
   "cell_type": "code",
   "source": [
    "df = df.withColumn(\n",
    "    \"running_balance\",\n",
    "    F.sum(F.col(\"amount\")).over(w.rowsBetween(Window.unboundedPreceding, Window.currentRow))\n",
    ")\n",
    "\n",
    "df.show()"
   ],
   "id": "6a93f7e800b878c1",
   "outputs": [
    {
     "name": "stdout",
     "output_type": "stream",
     "text": [
      "+------+----------+-------+---------------+\n",
      "|amount|  txn_date|user_id|running_balance|\n",
      "+------+----------+-------+---------------+\n",
      "|   500|2025-01-01|      1|            500|\n",
      "|  -200|2025-01-03|      1|            300|\n",
      "|   300|2025-01-05|      1|            600|\n",
      "|  1000|2025-01-02|      2|           1000|\n",
      "|  -400|2025-01-04|      2|            600|\n",
      "+------+----------+-------+---------------+\n",
      "\n"
     ]
    }
   ],
   "execution_count": 16
  }
 ],
 "metadata": {
  "kernelspec": {
   "display_name": "Python 3 (ipykernel)",
   "language": "python",
   "name": "python3"
  },
  "language_info": {
   "codemirror_mode": {
    "name": "ipython",
    "version": 3
   },
   "file_extension": ".py",
   "mimetype": "text/x-python",
   "name": "python",
   "nbconvert_exporter": "python",
   "pygments_lexer": "ipython3",
   "version": "3.10.16"
  }
 },
 "nbformat": 4,
 "nbformat_minor": 5
}
