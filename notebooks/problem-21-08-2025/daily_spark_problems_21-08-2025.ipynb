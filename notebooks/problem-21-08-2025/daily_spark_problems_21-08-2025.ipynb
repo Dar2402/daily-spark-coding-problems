{
 "cells": [
  {
   "cell_type": "code",
   "id": "33eec3f6-638b-4534-aa80-3b0cca02190a",
   "metadata": {
    "ExecuteTime": {
     "end_time": "2025-08-22T12:27:22.566728Z",
     "start_time": "2025-08-22T12:27:22.557207Z"
    }
   },
   "source": [
    "from pyspark.sql import SparkSession, functions as F, Window as W\n",
    "from pyspark.sql.types import StructType, StructField, StringType, DateType, IntegerType"
   ],
   "outputs": [],
   "execution_count": 47
  },
  {
   "cell_type": "code",
   "id": "fbf0908a-5a68-4d89-9bb3-00684bdd775b",
   "metadata": {
    "ExecuteTime": {
     "end_time": "2025-08-22T12:27:24.011723Z",
     "start_time": "2025-08-22T12:27:23.995710Z"
    }
   },
   "source": "spark = SparkSession.builder.appName(\"DailyCodingProblem-21-08-2025\").getOrCreate()",
   "outputs": [],
   "execution_count": 48
  },
  {
   "cell_type": "markdown",
   "id": "3ed93eeb-7935-4bf8-9e14-9edbc2441d3a",
   "metadata": {},
   "source": [
    "# 📝 Problem 1: PySpark – Identify First Purchase per Customer\n",
    "\n",
    "### **Problem Statement**\n",
    "\n",
    "You have a PySpark DataFrame containing customer purchase data. Each row represents a purchase. Write a PySpark program to **find the first purchase date for each customer** and the amount spent on that date.\n",
    "\n",
    "### **Sample Input** (`purchases`)\n",
    "\n",
    "| customer\\_id | purchase\\_date | amount |\n",
    "| ------------ | -------------- | ------ |\n",
    "| 101          | 2025-01-03     | 250    |\n",
    "| 101          | 2025-01-05     | 300    |\n",
    "| 102          | 2025-01-01     | 150    |\n",
    "| 102          | 2025-01-02     | 200    |\n",
    "| 103          | 2025-01-04     | 500    |\n",
    "\n",
    "### **Expected Output**\n",
    "\n",
    "| customer\\_id | first\\_purchase\\_date | amount |\n",
    "| ------------ | --------------------- | ------ |\n",
    "| 101          | 2025-01-03            | 250    |\n",
    "| 102          | 2025-01-01            | 150    |\n",
    "| 103          | 2025-01-04            | 500    |\n",
    "\n",
    "---"
   ]
  },
  {
   "cell_type": "code",
   "id": "636430c3-a7f1-42f9-9efb-05922b0fea80",
   "metadata": {
    "ExecuteTime": {
     "end_time": "2025-08-22T12:27:26.944663Z",
     "start_time": "2025-08-22T12:27:26.516357Z"
    }
   },
   "source": [
    "purchases = [\n",
    "    {\"customer_id\": 101, \"purchase_date\": \"2025-01-03\", \"amount\": 250},\n",
    "    {\"customer_id\": 101, \"purchase_date\": \"2025-01-05\", \"amount\": 300},\n",
    "    {\"customer_id\": 102, \"purchase_date\": \"2025-01-01\", \"amount\": 150},\n",
    "    {\"customer_id\": 102, \"purchase_date\": \"2025-01-02\", \"amount\": 200},\n",
    "    {\"customer_id\": 103, \"purchase_date\": \"2025-01-04\", \"amount\": 500},\n",
    "]\n",
    "\n",
    "\n",
    "spark = SparkSession.builder.getOrCreate()\n",
    "df = spark.createDataFrame(purchases)\n",
    "df = df.withColumn(\n",
    "  'purchase_date',\n",
    "  F.to_date(F.col('purchase_date'))\n",
    ")\n",
    "\n",
    "\n",
    "window = W.partitionBy('customer_id').orderBy('purchase_date')\n",
    "\n",
    "df = df.withColumn(\n",
    "  'rn',\n",
    "  F.row_number().over(window)\n",
    ")\n",
    "df = df.filter(\n",
    "  F.col('rn') == 1\n",
    ").orderBy(F.col('customer_id')).drop('rn')\n",
    "\n",
    "df.show()"
   ],
   "outputs": [
    {
     "name": "stdout",
     "output_type": "stream",
     "text": [
      "+------+-----------+-------------+\n",
      "|amount|customer_id|purchase_date|\n",
      "+------+-----------+-------------+\n",
      "|   250|        101|   2025-01-03|\n",
      "|   150|        102|   2025-01-01|\n",
      "|   500|        103|   2025-01-04|\n",
      "+------+-----------+-------------+\n",
      "\n"
     ]
    }
   ],
   "execution_count": 49
  },
  {
   "metadata": {},
   "cell_type": "code",
   "outputs": [],
   "execution_count": null,
   "source": "",
   "id": "f7e029e42c9ea834"
  }
 ],
 "metadata": {
  "kernelspec": {
   "display_name": "Python 3 (ipykernel)",
   "language": "python",
   "name": "python3"
  },
  "language_info": {
   "codemirror_mode": {
    "name": "ipython",
    "version": 3
   },
   "file_extension": ".py",
   "mimetype": "text/x-python",
   "name": "python",
   "nbconvert_exporter": "python",
   "pygments_lexer": "ipython3",
   "version": "3.10.16"
  }
 },
 "nbformat": 4,
 "nbformat_minor": 5
}
