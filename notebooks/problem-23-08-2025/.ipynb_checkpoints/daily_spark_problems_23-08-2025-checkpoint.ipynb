{
 "cells": [
  {
   "cell_type": "code",
   "id": "33eec3f6-638b-4534-aa80-3b0cca02190a",
   "metadata": {
    "ExecuteTime": {
     "end_time": "2025-08-22T12:28:01.148259Z",
     "start_time": "2025-08-22T12:28:00.997366Z"
    }
   },
   "source": [
    "from pyspark.sql import SparkSession, functions as F, Window as W\n",
    "from pyspark.sql.types import StructType, StructField, StringType, DateType, IntegerType"
   ],
   "outputs": [],
   "execution_count": 1
  },
  {
   "cell_type": "code",
   "id": "fbf0908a-5a68-4d89-9bb3-00684bdd775b",
   "metadata": {
    "ExecuteTime": {
     "end_time": "2025-08-22T12:28:05.015272Z",
     "start_time": "2025-08-22T12:28:01.377239Z"
    }
   },
   "source": "spark = SparkSession.builder.appName(\"DailyCodingProblem-23-08-2025\").getOrCreate()",
   "outputs": [],
   "execution_count": 2
  },
  {
   "cell_type": "markdown",
   "id": "3ed93eeb-7935-4bf8-9e14-9edbc2441d3a",
   "metadata": {},
   "source": [
    "# 📝 Problem 1: PySpark – Calculate Percentage Contribution of Each Product\n",
    "\n",
    "### **Problem Statement**\n",
    "\n",
    "You have a PySpark DataFrame with total sales for different products. Write a PySpark program to **calculate the percentage contribution of each product** towards the total sales across all products.\n",
    "\n",
    "### **Sample Input** (`product_sales`)\n",
    "\n",
    "| product | sales |\n",
    "| ------- | ----- |\n",
    "| Laptop  | 1200  |\n",
    "| Phone   | 800   |\n",
    "| Tablet  | 500   |\n",
    "| Desktop | 500   |\n",
    "\n",
    "### **Expected Output**\n",
    "\n",
    "| product | sales | percentage\\_contribution |\n",
    "| ------- | ----- | ------------------------ |\n",
    "| Laptop  | 1200  | 40.0                     |\n",
    "| Phone   | 800   | 26.7                     |\n",
    "| Tablet  | 500   | 16.7                     |\n",
    "| Desktop | 500   | 16.7                     |\n",
    "\n",
    "*(Percentages rounded to 1 decimal place)*\n",
    "\n",
    "---"
   ]
  },
  {
   "cell_type": "code",
   "id": "636430c3-a7f1-42f9-9efb-05922b0fea80",
   "metadata": {
    "ExecuteTime": {
     "end_time": "2025-08-22T12:32:28.923959Z",
     "start_time": "2025-08-22T12:32:28.219011Z"
    }
   },
   "source": [
    "schema = StructType([\n",
    "    StructField(\"product\", StringType(), True),\n",
    "    StructField(\"sales\", IntegerType(), True)\n",
    "])\n",
    "\n",
    "data = [\n",
    "    (\"Laptop\", 1200),\n",
    "    (\"Phone\", 800),\n",
    "    (\"Tablet\", 500),\n",
    "    (\"Desktop\", 500),\n",
    "]\n",
    "\n",
    "df = spark.createDataFrame(data, schema)\n",
    "\n",
    "w = W.orderBy(df.sales).rowsBetween(W.unboundedPreceding, W.unboundedFollowing)\n",
    "\n",
    "df = df.withColumn(\n",
    "    'percentage_contribution',\n",
    "    F.round((F.col('sales') / F.sum(F.col('sales')).over(w)) * 100, 1)\n",
    ").orderBy(df.sales.desc())\n",
    "\n",
    "df.show()\n"
   ],
   "outputs": [
    {
     "name": "stdout",
     "output_type": "stream",
     "text": [
      "+-------+-----+-----------------------+\n",
      "|product|sales|percentage_contribution|\n",
      "+-------+-----+-----------------------+\n",
      "| Laptop| 1200|                   40.0|\n",
      "|  Phone|  800|                   26.7|\n",
      "| Tablet|  500|                   16.7|\n",
      "|Desktop|  500|                   16.7|\n",
      "+-------+-----+-----------------------+\n",
      "\n"
     ]
    }
   ],
   "execution_count": 7
  },
  {
   "metadata": {},
   "cell_type": "code",
   "outputs": [],
   "execution_count": null,
   "source": "",
   "id": "3dae2967bdeba92c"
  }
 ],
 "metadata": {
  "kernelspec": {
   "display_name": "Python 3 (ipykernel)",
   "language": "python",
   "name": "python3"
  },
  "language_info": {
   "codemirror_mode": {
    "name": "ipython",
    "version": 3
   },
   "file_extension": ".py",
   "mimetype": "text/x-python",
   "name": "python",
   "nbconvert_exporter": "python",
   "pygments_lexer": "ipython3",
   "version": "3.10.16"
  }
 },
 "nbformat": 4,
 "nbformat_minor": 5
}
