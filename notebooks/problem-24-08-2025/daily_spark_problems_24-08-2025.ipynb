{
 "cells": [
  {
   "cell_type": "code",
   "execution_count": 3,
   "id": "623ebbe5-b7e1-44dd-b242-87b463606b6e",
   "metadata": {},
   "outputs": [],
   "source": [
    "from pyspark.sql import SparkSession, functions as F, Window as W\n",
    "from pyspark.sql.types import StructType, StructField, IntegerType, StringType"
   ]
  },
  {
   "cell_type": "code",
   "execution_count": 4,
   "id": "8231b46d-a52d-42ed-98b5-6b2c550d4df4",
   "metadata": {},
   "outputs": [],
   "source": [
    "spark = SparkSession.builder.appName(\"DailyCodingProblem-24-08-2025\").getOrCreate()"
   ]
  },
  {
   "cell_type": "markdown",
   "id": "1be9f60f-0769-490d-95a8-cd7fc5f4a6e2",
   "metadata": {},
   "source": [
    "# 📝 Problem 1: PySpark – Rank Employees by Salary within Departments\n",
    "\n",
    "### **Problem Statement**\n",
    "\n",
    "You have a PySpark DataFrame containing employee salaries across departments. Write a PySpark program to **rank employees within each department based on salary in descending order**.\n",
    "\n",
    "### **Sample Input** (`employee_salaries`)\n",
    "\n",
    "| emp\\_id | dept | salary |\n",
    "| ------- | ---- | ------ |\n",
    "| 1       | HR   | 60000  |\n",
    "| 2       | HR   | 75000  |\n",
    "| 3       | HR   | 50000  |\n",
    "| 4       | IT   | 90000  |\n",
    "| 5       | IT   | 85000  |\n",
    "\n",
    "### **Expected Output**\n",
    "\n",
    "| emp\\_id | dept | salary | rank |\n",
    "| ------- | ---- | ------ | ---- |\n",
    "| 2       | HR   | 75000  | 1    |\n",
    "| 1       | HR   | 60000  | 2    |\n",
    "| 3       | HR   | 50000  | 3    |\n",
    "| 4       | IT   | 90000  | 1    |\n",
    "| 5       | IT   | 85000  | 2    |\n",
    "\n",
    "---"
   ]
  },
  {
   "cell_type": "code",
   "execution_count": 5,
   "id": "6a66f89c-b924-40c8-930b-89f9cff7f93e",
   "metadata": {},
   "outputs": [],
   "source": [
    "schema = StructType([\n",
    "    StructField(\"emp_id\", IntegerType(), True),\n",
    "    StructField(\"dept\", StringType(), True),\n",
    "    StructField(\"salary\", IntegerType(), True)\n",
    "])"
   ]
  },
  {
   "cell_type": "code",
   "execution_count": 6,
   "id": "0eeacf0e-6cba-477f-8ea7-4350fd006705",
   "metadata": {},
   "outputs": [],
   "source": [
    "data = [\n",
    "    (1, \"HR\", 60000),\n",
    "    (2, \"HR\", 75000),\n",
    "    (3, \"HR\", 50000),\n",
    "    (4, \"IT\", 90000),\n",
    "    (5, \"IT\", 85000),\n",
    "]"
   ]
  },
  {
   "cell_type": "code",
   "execution_count": 8,
   "id": "00d23dd4-681d-468a-993c-b898a8e9d556",
   "metadata": {},
   "outputs": [],
   "source": [
    "df = spark.createDataFrame(\n",
    "    data,\n",
    "    schema=schema\n",
    ")"
   ]
  },
  {
   "cell_type": "code",
   "execution_count": 14,
   "id": "535805f2-464a-4316-983d-d238979323a9",
   "metadata": {},
   "outputs": [],
   "source": [
    "w = W.partitionBy(F.col(\"dept\")).orderBy(F.col('salary').desc())"
   ]
  },
  {
   "cell_type": "code",
   "execution_count": 15,
   "id": "e31840e5-a0e2-478c-ad85-425068b7f1ae",
   "metadata": {},
   "outputs": [
    {
     "name": "stdout",
     "output_type": "stream",
     "text": [
      "+------+----+------+----+\n",
      "|emp_id|dept|salary|rank|\n",
      "+------+----+------+----+\n",
      "|     2|  HR| 75000|   1|\n",
      "|     1|  HR| 60000|   2|\n",
      "|     3|  HR| 50000|   3|\n",
      "|     4|  IT| 90000|   1|\n",
      "|     5|  IT| 85000|   2|\n",
      "+------+----+------+----+\n",
      "\n"
     ]
    }
   ],
   "source": [
    "df = df.withColumn(\n",
    "    'rank',\n",
    "    F.dense_rank().over(w)\n",
    ")\n",
    "\n",
    "\n",
    "df.show()"
   ]
  },
  {
   "cell_type": "code",
   "execution_count": null,
   "id": "eaf04730-611c-4581-84c5-75573094ec63",
   "metadata": {},
   "outputs": [],
   "source": [
    "df.toPandas()"
   ]
  }
 ],
 "metadata": {
  "kernelspec": {
   "display_name": "Python 3 (ipykernel)",
   "language": "python",
   "name": "python3"
  },
  "language_info": {
   "codemirror_mode": {
    "name": "ipython",
    "version": 3
   },
   "file_extension": ".py",
   "mimetype": "text/x-python",
   "name": "python",
   "nbconvert_exporter": "python",
   "pygments_lexer": "ipython3",
   "version": "3.10.18"
  }
 },
 "nbformat": 4,
 "nbformat_minor": 5
}
