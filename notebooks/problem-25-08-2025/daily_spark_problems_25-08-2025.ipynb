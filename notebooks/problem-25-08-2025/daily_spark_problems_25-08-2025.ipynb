{
 "cells": [
  {
   "cell_type": "markdown",
   "id": "7c075613-f651-4c9d-bcc4-3a89f1512572",
   "metadata": {},
   "source": [
    "# 📝 Problem 1: PySpark – Calculate Session Gaps for Users\n",
    "\n",
    "### **Problem Statement**\n",
    "\n",
    "You have a PySpark DataFrame with user session information. Each row represents a session start date for a user. Write a PySpark program to **calculate the gap in days between consecutive sessions** for each user.\n",
    "\n",
    "### **Sample Input** (`user_sessions`)\n",
    "\n",
    "| user\\_id | session\\_date |\n",
    "| -------- | ------------- |\n",
    "| U1       | 2025-01-01    |\n",
    "| U1       | 2025-01-05    |\n",
    "| U1       | 2025-01-10    |\n",
    "| U2       | 2025-01-02    |\n",
    "| U2       | 2025-01-04    |\n",
    "\n",
    "### **Expected Output**\n",
    "\n",
    "| user\\_id | session\\_date | days\\_since\\_last\\_session |\n",
    "| -------- | ------------- | -------------------------- |\n",
    "| U1       | 2025-01-01    | NULL                       |\n",
    "| U1       | 2025-01-05    | 4                          |\n",
    "| U1       | 2025-01-10    | 5                          |\n",
    "| U2       | 2025-01-02    | NULL                       |\n",
    "| U2       | 2025-01-04    | 2                          |\n",
    "\n",
    "---"
   ]
  },
  {
   "cell_type": "code",
   "execution_count": 3,
   "id": "b02ad509-1765-48e4-a48f-758febe7e1af",
   "metadata": {},
   "outputs": [],
   "source": [
    "from pyspark.sql import SparkSession\n",
    "from pyspark.sql import functions as F, Window as W\n",
    "from pyspark.sql.types import StructType, StructField, StringType, DateType"
   ]
  },
  {
   "cell_type": "code",
   "execution_count": 2,
   "id": "6517f0ec-7167-4693-90ca-a2da238c4476",
   "metadata": {},
   "outputs": [
    {
     "name": "stderr",
     "output_type": "stream",
     "text": [
      "----------------------------------------\n",
      "Exception occurred during processing of request from ('127.0.0.1', 53338)\n",
      "Traceback (most recent call last):\n",
      "  File \"/usr/local/lib/python3.10/socketserver.py\", line 316, in _handle_request_noblock\n",
      "    self.process_request(request, client_address)\n",
      "  File \"/usr/local/lib/python3.10/socketserver.py\", line 347, in process_request\n",
      "    self.finish_request(request, client_address)\n",
      "  File \"/usr/local/lib/python3.10/socketserver.py\", line 360, in finish_request\n",
      "    self.RequestHandlerClass(request, client_address, self)\n",
      "  File \"/usr/local/lib/python3.10/socketserver.py\", line 747, in __init__\n",
      "    self.handle()\n",
      "  File \"/spark/python/pyspark/accumulators.py\", line 295, in handle\n",
      "    poll(accum_updates)\n",
      "  File \"/spark/python/pyspark/accumulators.py\", line 267, in poll\n",
      "    if self.rfile in r and func():\n",
      "  File \"/spark/python/pyspark/accumulators.py\", line 271, in accum_updates\n",
      "    num_updates = read_int(self.rfile)\n",
      "  File \"/spark/python/pyspark/serializers.py\", line 596, in read_int\n",
      "    raise EOFError\n",
      "EOFError\n",
      "----------------------------------------\n"
     ]
    }
   ],
   "source": [
    "spark = SparkSession.builder.appName(\"DailyCodingProblem-25-08-2025\").getOrCreate()"
   ]
  },
  {
   "cell_type": "code",
   "execution_count": 4,
   "id": "3c52546f-043a-492b-9cca-87a017041c88",
   "metadata": {},
   "outputs": [],
   "source": [
    "data = [\n",
    "    (\"U1\", \"2025-01-01\"),\n",
    "    (\"U1\", \"2025-01-05\"),\n",
    "    (\"U1\", \"2025-01-10\"),\n",
    "    (\"U2\", \"2025-01-02\"),\n",
    "    (\"U2\", \"2025-01-04\")\n",
    "]\n",
    "\n",
    "schema = StructType([\n",
    "    StructField(\"user_id\", StringType(), True),\n",
    "    StructField(\"session_date\", StringType(), True)\n",
    "])\n",
    "\n",
    "df = spark.createDataFrame(data, schema)"
   ]
  },
  {
   "cell_type": "code",
   "execution_count": 6,
   "id": "e04bfecf-7682-4fe9-b549-d6e129d0c95b",
   "metadata": {},
   "outputs": [
    {
     "name": "stdout",
     "output_type": "stream",
     "text": [
      "root\n",
      " |-- user_id: string (nullable = true)\n",
      " |-- session_date: string (nullable = true)\n",
      "\n"
     ]
    }
   ],
   "source": [
    "df.printSchema()"
   ]
  },
  {
   "cell_type": "code",
   "execution_count": 21,
   "id": "1919dad8-b918-43b1-adb0-cdcbcacbb2e7",
   "metadata": {},
   "outputs": [],
   "source": [
    "w = W.partitionBy(\"user_id\").orderBy(\"session_date\")"
   ]
  },
  {
   "cell_type": "code",
   "execution_count": 29,
   "id": "9279082d-639e-4e49-9c2c-03b6e055359a",
   "metadata": {},
   "outputs": [],
   "source": [
    "df = df.withColumn(\n",
    "    \"session_date\",\n",
    "    F.to_date(F.col(\"session_date\"))\n",
    ").withColumn(\n",
    "    \"days_since_last_session\",\n",
    "    F.date_diff(\n",
    "        F.col(\"session_date\"), F.lag(F.col(\"session_date\"), 1).over(w)\n",
    "    )\n",
    ")"
   ]
  },
  {
   "cell_type": "code",
   "execution_count": 30,
   "id": "917e527a-016c-48ca-b7d6-94db5f355020",
   "metadata": {},
   "outputs": [
    {
     "name": "stdout",
     "output_type": "stream",
     "text": [
      "+-------+------------+-----------------------+\n",
      "|user_id|session_date|days_since_last_session|\n",
      "+-------+------------+-----------------------+\n",
      "|     U1|  2025-01-01|                   NULL|\n",
      "|     U1|  2025-01-05|                      4|\n",
      "|     U1|  2025-01-10|                      5|\n",
      "|     U2|  2025-01-02|                   NULL|\n",
      "|     U2|  2025-01-04|                      2|\n",
      "+-------+------------+-----------------------+\n",
      "\n"
     ]
    }
   ],
   "source": [
    "df.show()"
   ]
  },
  {
   "cell_type": "code",
   "execution_count": null,
   "id": "8e4ba452-777c-48ce-8ce7-b96f69d0ab15",
   "metadata": {},
   "outputs": [],
   "source": []
  }
 ],
 "metadata": {
  "kernelspec": {
   "display_name": "Python 3 (ipykernel)",
   "language": "python",
   "name": "python3"
  },
  "language_info": {
   "codemirror_mode": {
    "name": "ipython",
    "version": 3
   },
   "file_extension": ".py",
   "mimetype": "text/x-python",
   "name": "python",
   "nbconvert_exporter": "python",
   "pygments_lexer": "ipython3",
   "version": "3.10.18"
  }
 },
 "nbformat": 4,
 "nbformat_minor": 5
}
