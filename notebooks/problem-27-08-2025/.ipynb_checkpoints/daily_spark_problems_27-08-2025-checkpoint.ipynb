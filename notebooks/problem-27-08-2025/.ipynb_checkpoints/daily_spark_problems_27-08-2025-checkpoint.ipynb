{
 "cells": [
  {
   "cell_type": "code",
   "execution_count": 1,
   "id": "b02ad509-1765-48e4-a48f-758febe7e1af",
   "metadata": {},
   "outputs": [],
   "source": [
    "from pyspark.sql import SparkSession\n",
    "from pyspark.sql import functions as F, Window as W\n",
    "from pyspark.sql.types import StructType, StructField, StringType, DateType, IntegerType\n",
    "from datetime import datetime"
   ]
  },
  {
   "cell_type": "code",
   "execution_count": 2,
   "id": "6517f0ec-7167-4693-90ca-a2da238c4476",
   "metadata": {},
   "outputs": [],
   "source": [
    "spark = SparkSession.builder.appName(\"DailyCodingProblem-27-08-2025\").getOrCreate()"
   ]
  },
  {
   "cell_type": "code",
   "execution_count": 3,
   "id": "3c52546f-043a-492b-9cca-87a017041c88",
   "metadata": {},
   "outputs": [],
   "source": [
    "df = spark.read.format(\"csv\") \\\n",
    "    .options(header=True, inferSchema=True) \\\n",
    "    .load(\"/home/jupyter/work/data/sources/csv/Day-09/user_sessions.csv\")"
   ]
  },
  {
   "cell_type": "markdown",
   "id": "e188e972-5149-4af0-b284-4416d08906dd",
   "metadata": {},
   "source": [
    "## **Problem: Advanced User Session Analytics**\n",
    "\n",
    "A user login website tracks detailed user activities across sessions. For each user per day, you need to calculate:\n",
    "\n",
    "1. **Number of Logins** – Count of login events per day.\n",
    "2. **Session Times** – Duration of each session (between login and logout) per day.\n",
    "3. **Total Usage Time** – Sum of all session durations per day.\n",
    "4. **Average Usage Time** – Average session duration per day.\n",
    "5. **Most Used Device** – Device used most frequently per day.\n",
    "6. **Top Location** – Location from where the user accessed most events per day.\n",
    "7. **Unique Browsers** – Count of distinct browsers used per day.\n",
    "8. **Event Counts** – Count of each event type per day (stored separately).\n",
    "\n",
    "### **Additional Notes**\n",
    "\n",
    "* Events belong to different sessions identified by `session_id`.\n",
    "* A session starts at `login` and ends at `logout`. If no `logout`, assume session ends at **23:59:59** for that day.\n",
    "* Event types include: `login`, `logout`, `click`, `view`, `purchase`.\n",
    "\n",
    "---\n",
    "\n",
    "## **Sample Input from CSV file (Simplified)**\n",
    "\n",
    "| user\\_id | event\\_time         | event\\_type | device  | location | browser | session\\_id |\n",
    "| -------- | ------------------- | ----------- | ------- | -------- | ------- | ----------- |\n",
    "| U1       | 2025-08-27 09:00:00 | login       | mobile  | India    | Chrome  | S101        |\n",
    "| U1       | 2025-08-27 09:15:00 | click       | mobile  | India    | Chrome  | S101        |\n",
    "| U1       | 2025-08-27 09:45:00 | logout      | mobile  | India    | Chrome  | S101        |\n",
    "| U2       | 2025-08-27 10:00:00 | login       | desktop | USA      | Firefox | S202        |\n",
    "| U2       | 2025-08-27 10:30:00 | view        | desktop | USA      | Firefox | S202        |\n",
    "| U2       | 2025-08-27 11:00:00 | logout      | desktop | USA      | Firefox | S202        |\n",
    "\n",
    "---\n",
    "\n",
    "## **Expected Output 1: Main Metrics**\n",
    "\n",
    "| user\\_id | date       | num\\_logins | session\\_times(mins) | total\\_usage(mins) | avg\\_usage(mins) | most\\_device | top\\_location | unique\\_browsers |\n",
    "| -------- | ---------- | ----------- | -------------------- | ------------------ | ---------------- | ------------ | ------------- | ---------------- |\n",
    "| U1       | 2025-08-27 | 1           | \\[45]                | 45                 | 45.0             | mobile       | India         | 1                |\n",
    "| U2       | 2025-08-27 | 1           | \\[60]                | 60                 | 60.0             | desktop      | USA           | 1                |\n",
    "\n",
    "---\n",
    "\n",
    "## **Expected Output 2: Event Counts (Separate Table)**\n",
    "\n",
    "| user\\_id | date       | login\\_count | logout\\_count | click\\_count | view\\_count | purchase\\_count |\n",
    "| -------- | ---------- | ------------ | ------------- | ------------ | ----------- | --------------- |\n",
    "| U1       | 2025-08-27 | 1            | 1             | 1            | 0           | 0               |\n",
    "| U2       | 2025-08-27 | 1            | 1             | 0            | 1           | 0               |\n",
    "\n",
    "---"
   ]
  },
  {
   "cell_type": "code",
   "execution_count": 4,
   "id": "795cb746-9564-4484-893e-b172fcbb177d",
   "metadata": {},
   "outputs": [],
   "source": [
    "df = df.withColumn(\"event_time\", F.col(\"event_time\").cast(\"timestamp\"))\n",
    "df = df.withColumn(\"date\", F.to_date(\"event_time\"))"
   ]
  },
  {
   "cell_type": "code",
   "execution_count": 26,
   "id": "688260cc-ff25-4a02-9d89-66cfb26ad2b7",
   "metadata": {},
   "outputs": [
    {
     "name": "stdout",
     "output_type": "stream",
     "text": [
      "+-------+-------------------+----------+-------+---------+-------+----------+----------+\n",
      "|user_id|         event_time|event_type| device| location|browser|session_id|      date|\n",
      "+-------+-------------------+----------+-------+---------+-------+----------+----------+\n",
      "|    U21|2025-08-12 16:17:06|  purchase|desktop|Australia| Chrome|     S9440|2025-08-12|\n",
      "|     U2|2025-08-12 04:31:21|  purchase| tablet|Australia|Firefox|     S9876|2025-08-12|\n",
      "|    U18|2025-08-17 14:03:12|  purchase|desktop|    India|Firefox|     S7075|2025-08-17|\n",
      "|    U45|2025-08-20 01:56:42|      view|desktop|Australia| Safari|     S7144|2025-08-20|\n",
      "|    U21|2025-08-25 19:31:51|     login| mobile|   Canada| Safari|     S3814|2025-08-25|\n",
      "|     U3|2025-08-13 12:16:10|     click|desktop|Australia|Firefox|     S6097|2025-08-13|\n",
      "|     U5|2025-08-02 05:58:30|    logout| tablet|    India|  Opera|     S2232|2025-08-02|\n",
      "|    U19|2025-08-21 04:21:33|  purchase| tablet|      USA| Safari|     S7053|2025-08-21|\n",
      "|     U5|2025-08-21 19:18:40|     login| tablet|Australia|  Opera|     S8274|2025-08-21|\n",
      "|    U50|2025-08-01 14:36:09|  purchase| tablet|    India|   Edge|     S6611|2025-08-01|\n",
      "|    U21|2025-08-07 12:04:33|     click| tablet|Australia|Firefox|     S7261|2025-08-07|\n",
      "|     U6|2025-08-23 04:20:13|     login| mobile|   Canada|  Opera|     S6102|2025-08-23|\n",
      "|     U2|2025-08-16 00:27:15|    logout| mobile|Australia| Safari|     S9693|2025-08-16|\n",
      "|    U10|2025-08-14 06:47:32|      view|desktop|       UK|   Edge|     S3109|2025-08-14|\n",
      "|    U33|2025-08-12 10:19:44|    logout| tablet|    India|   Edge|     S4664|2025-08-12|\n",
      "|    U39|2025-08-10 01:58:28|     login| tablet|Australia|   Edge|     S5201|2025-08-10|\n",
      "|    U35|2025-08-04 09:22:59|      view| tablet|Australia|   Edge|     S9812|2025-08-04|\n",
      "|    U27|2025-08-19 04:03:32|  purchase| mobile|       UK|   Edge|     S9089|2025-08-19|\n",
      "|    U47|2025-08-16 04:48:14|     login| tablet|       UK|Firefox|     S6267|2025-08-16|\n",
      "|    U46|2025-08-17 16:00:18|     login|desktop|      USA| Chrome|     S6524|2025-08-17|\n",
      "+-------+-------------------+----------+-------+---------+-------+----------+----------+\n",
      "only showing top 20 rows\n",
      "\n"
     ]
    }
   ],
   "source": [
    "df.show()"
   ]
  },
  {
   "cell_type": "code",
   "execution_count": 5,
   "id": "36be43cc-3ced-4e91-8430-421245527378",
   "metadata": {},
   "outputs": [],
   "source": [
    "event_counts = (\n",
    "    df.groupBy(\"user_id\", \"date\")\n",
    "      .pivot(\"event_type\", [\"login\",\"logout\",\"click\",\"view\",\"purchase\"])\n",
    "      .count()\n",
    "      .na.fill(0)\n",
    ")"
   ]
  },
  {
   "cell_type": "code",
   "execution_count": 25,
   "id": "921f58ac-d34f-47f2-98e4-c691d738efd0",
   "metadata": {},
   "outputs": [
    {
     "name": "stdout",
     "output_type": "stream",
     "text": [
      "+-------+----------+-----+------+-----+----+--------+\n",
      "|user_id|      date|login|logout|click|view|purchase|\n",
      "+-------+----------+-----+------+-----+----+--------+\n",
      "|    U43|2025-08-06|    2|     3|    0|   0|       0|\n",
      "|    U31|2025-08-16|    1|     0|    0|   1|       1|\n",
      "|    U17|2025-08-14|    0|     0|    0|   0|       1|\n",
      "|     U8|2025-08-25|    0|     1|    0|   0|       1|\n",
      "|     U9|2025-08-22|    1|     0|    0|   0|       0|\n",
      "|    U39|2025-08-28|    1|     0|    0|   0|       0|\n",
      "|    U29|2025-08-04|    0|     0|    0|   0|       2|\n",
      "|    U38|2025-08-03|    0|     1|    0|   0|       0|\n",
      "|    U49|2025-08-03|    1|     0|    0|   0|       0|\n",
      "|    U19|2025-08-03|    0|     1|    1|   1|       0|\n",
      "|    U19|2025-08-27|    1|     0|    0|   1|       1|\n",
      "|     U6|2025-08-25|    1|     0|    0|   0|       0|\n",
      "|    U25|2025-08-12|    2|     1|    1|   0|       0|\n",
      "|    U39|2025-08-13|    0|     1|    0|   1|       0|\n",
      "|    U35|2025-08-11|    0|     0|    0|   0|       1|\n",
      "|    U16|2025-08-16|    0|     0|    1|   2|       1|\n",
      "|    U29|2025-08-12|    0|     0|    1|   0|       0|\n",
      "|    U32|2025-08-21|    0|     0|    1|   1|       0|\n",
      "|    U12|2025-08-24|    0|     0|    0|   1|       0|\n",
      "|    U39|2025-08-17|    1|     0|    0|   0|       0|\n",
      "+-------+----------+-----+------+-----+----+--------+\n",
      "only showing top 20 rows\n",
      "\n"
     ]
    }
   ],
   "source": [
    "event_counts.show()"
   ]
  },
  {
   "cell_type": "code",
   "execution_count": 6,
   "id": "1c8e6191-f631-49b9-85ec-f559d6549a2e",
   "metadata": {},
   "outputs": [],
   "source": [
    "login_logout = df.filter(F.col(\"event_type\").isin(\"login\",\"logout\"))"
   ]
  },
  {
   "cell_type": "code",
   "execution_count": 27,
   "id": "db0142f7-7fb2-49a3-846d-1026b69ae72b",
   "metadata": {},
   "outputs": [
    {
     "name": "stdout",
     "output_type": "stream",
     "text": [
      "+-------+-------------------+----------+-------+---------+-------+----------+----------+\n",
      "|user_id|         event_time|event_type| device| location|browser|session_id|      date|\n",
      "+-------+-------------------+----------+-------+---------+-------+----------+----------+\n",
      "|    U21|2025-08-25 19:31:51|     login| mobile|   Canada| Safari|     S3814|2025-08-25|\n",
      "|     U5|2025-08-02 05:58:30|    logout| tablet|    India|  Opera|     S2232|2025-08-02|\n",
      "|     U5|2025-08-21 19:18:40|     login| tablet|Australia|  Opera|     S8274|2025-08-21|\n",
      "|     U6|2025-08-23 04:20:13|     login| mobile|   Canada|  Opera|     S6102|2025-08-23|\n",
      "|     U2|2025-08-16 00:27:15|    logout| mobile|Australia| Safari|     S9693|2025-08-16|\n",
      "|    U33|2025-08-12 10:19:44|    logout| tablet|    India|   Edge|     S4664|2025-08-12|\n",
      "|    U39|2025-08-10 01:58:28|     login| tablet|Australia|   Edge|     S5201|2025-08-10|\n",
      "|    U47|2025-08-16 04:48:14|     login| tablet|       UK|Firefox|     S6267|2025-08-16|\n",
      "|    U46|2025-08-17 16:00:18|     login|desktop|      USA| Chrome|     S6524|2025-08-17|\n",
      "|    U50|2025-08-09 11:05:29|    logout| mobile|      USA| Chrome|     S1844|2025-08-09|\n",
      "|     U3|2025-08-21 17:41:43|     login| tablet|    India| Chrome|     S7506|2025-08-21|\n",
      "|    U50|2025-08-07 16:39:48|    logout| mobile|       UK|  Opera|     S9607|2025-08-07|\n",
      "|    U27|2025-08-07 08:43:09|     login|desktop|       UK|  Opera|     S5164|2025-08-07|\n",
      "|    U33|2025-08-02 06:23:06|    logout|desktop|      USA|   Edge|     S4366|2025-08-02|\n",
      "|    U15|2025-08-06 15:56:20|     login| mobile|       UK|Firefox|     S9278|2025-08-06|\n",
      "|    U36|2025-08-20 02:18:06|     login|desktop|   Canada|   Edge|     S3286|2025-08-20|\n",
      "|    U15|2025-08-12 07:17:10|     login| tablet|    India|   Edge|     S9801|2025-08-12|\n",
      "|    U43|2025-08-06 20:06:45|    logout| mobile|      USA| Chrome|     S9945|2025-08-06|\n",
      "|    U31|2025-08-04 07:52:58|    logout|desktop|      USA|Firefox|     S1021|2025-08-04|\n",
      "|    U41|2025-08-03 11:43:59|     login| tablet|   Canada|  Opera|     S6521|2025-08-03|\n",
      "+-------+-------------------+----------+-------+---------+-------+----------+----------+\n",
      "only showing top 20 rows\n",
      "\n"
     ]
    }
   ],
   "source": [
    "login_logout.show()"
   ]
  },
  {
   "cell_type": "code",
   "execution_count": 7,
   "id": "7c876612-db81-41fc-aad7-27a101eb0e95",
   "metadata": {},
   "outputs": [
    {
     "data": {
      "text/plain": [
       "datetime.datetime(2025, 9, 1, 12, 56, 59, 298674)"
      ]
     },
     "execution_count": 7,
     "metadata": {},
     "output_type": "execute_result"
    }
   ],
   "source": [
    "datetime.now()"
   ]
  },
  {
   "cell_type": "code",
   "execution_count": 8,
   "id": "7af4985e-c782-4b93-b932-a40c3dab53a0",
   "metadata": {},
   "outputs": [],
   "source": [
    "session_times = (\n",
    "    login_logout.groupBy(\"user_id\",\"date\",\"session_id\")\n",
    "    .agg(\n",
    "        F.min(F.when(F.col(\"event_type\")==\"login\", F.col(\"event_time\"))).alias(\"login_time\"),\n",
    "        F.max(F.when(F.col(\"event_type\")==\"logout\", F.col(\"event_time\"))).alias(\"logout_time\")\n",
    "    )\n",
    "    .withColumn(\n",
    "        \"end_time\",\n",
    "        F.when(\n",
    "            F.col(\"logout_time\").isNull(),\n",
    "            F.expr(\"to_timestamp(concat(date, ' 23:59:59'))\")\n",
    "        ).otherwise(F.col(\"logout_time\"))\n",
    "    )\n",
    "    .withColumn(\n",
    "        \"session_minutes\",\n",
    "        F.round((F.unix_timestamp(\"end_time\") - F.unix_timestamp(\"login_time\"))/60, 2)\n",
    "    )\n",
    "    .filter(F.col(\"login_time\").isNotNull())\n",
    ")\n"
   ]
  },
  {
   "cell_type": "code",
   "execution_count": 28,
   "id": "03ccf32e-8788-4af6-a0fb-4c1835048b5c",
   "metadata": {},
   "outputs": [
    {
     "name": "stdout",
     "output_type": "stream",
     "text": [
      "+-------+----------+----------+-------------------+-----------+-------------------+---------------+\n",
      "|user_id|      date|session_id|         login_time|logout_time|           end_time|session_minutes|\n",
      "+-------+----------+----------+-------------------+-----------+-------------------+---------------+\n",
      "|    U47|2025-08-08|     S7637|2025-08-08 23:03:50|       NULL|2025-08-08 23:59:59|          56.15|\n",
      "|     U7|2025-08-22|     S5034|2025-08-22 06:01:27|       NULL|2025-08-22 23:59:59|        1078.53|\n",
      "|     U3|2025-08-23|     S3106|2025-08-23 17:16:14|       NULL|2025-08-23 23:59:59|         403.75|\n",
      "|    U50|2025-08-22|     S4743|2025-08-22 23:12:00|       NULL|2025-08-22 23:59:59|          47.98|\n",
      "|     U8|2025-08-26|     S1498|2025-08-26 13:58:10|       NULL|2025-08-26 23:59:59|         601.82|\n",
      "|    U45|2025-08-12|     S6767|2025-08-12 14:57:46|       NULL|2025-08-12 23:59:59|         542.22|\n",
      "|    U50|2025-08-17|     S5022|2025-08-17 15:21:38|       NULL|2025-08-17 23:59:59|         518.35|\n",
      "|    U13|2025-08-09|     S2296|2025-08-09 21:55:09|       NULL|2025-08-09 23:59:59|         124.83|\n",
      "|    U49|2025-08-03|     S6897|2025-08-03 18:56:37|       NULL|2025-08-03 23:59:59|         303.37|\n",
      "|    U31|2025-08-15|     S4639|2025-08-15 12:46:47|       NULL|2025-08-15 23:59:59|          673.2|\n",
      "|    U30|2025-08-05|     S7248|2025-08-05 23:41:54|       NULL|2025-08-05 23:59:59|          18.08|\n",
      "|     U4|2025-08-05|     S2036|2025-08-05 08:12:07|       NULL|2025-08-05 23:59:59|         947.87|\n",
      "|    U23|2025-08-28|     S1367|2025-08-28 19:42:56|       NULL|2025-08-28 23:59:59|         257.05|\n",
      "|    U39|2025-08-08|     S3000|2025-08-08 02:05:26|       NULL|2025-08-08 23:59:59|        1314.55|\n",
      "|    U24|2025-08-16|     S9236|2025-08-16 15:24:00|       NULL|2025-08-16 23:59:59|         515.98|\n",
      "|    U47|2025-08-01|     S8485|2025-08-01 08:03:43|       NULL|2025-08-01 23:59:59|         956.27|\n",
      "|     U8|2025-08-10|     S9672|2025-08-10 16:23:44|       NULL|2025-08-10 23:59:59|         456.25|\n",
      "|    U11|2025-08-28|     S2618|2025-08-28 02:37:59|       NULL|2025-08-28 23:59:59|         1282.0|\n",
      "|    U24|2025-08-01|     S7037|2025-08-01 06:27:52|       NULL|2025-08-01 23:59:59|        1052.12|\n",
      "|     U8|2025-08-13|     S3271|2025-08-13 20:15:43|       NULL|2025-08-13 23:59:59|         224.27|\n",
      "+-------+----------+----------+-------------------+-----------+-------------------+---------------+\n",
      "only showing top 20 rows\n",
      "\n"
     ]
    }
   ],
   "source": [
    "session_times.show()"
   ]
  },
  {
   "cell_type": "code",
   "execution_count": 31,
   "id": "6e6cc6f9-c350-4e4e-a522-5214cac91c5c",
   "metadata": {},
   "outputs": [
    {
     "name": "stdout",
     "output_type": "stream",
     "text": [
      "+-------+----------+----------+-------------------+-----------+-------------------+---------------+\n",
      "|user_id|      date|session_id|         login_time|logout_time|           end_time|session_minutes|\n",
      "+-------+----------+----------+-------------------+-----------+-------------------+---------------+\n",
      "|     U8|2025-08-13|     S3271|2025-08-13 20:15:43|       NULL|2025-08-13 23:59:59|         224.27|\n",
      "|     U8|2025-08-13|     S6573|2025-08-13 12:07:57|       NULL|2025-08-13 23:59:59|         712.03|\n",
      "|     U8|2025-08-13|     S8042|2025-08-13 20:25:39|       NULL|2025-08-13 23:59:59|         214.33|\n",
      "+-------+----------+----------+-------------------+-----------+-------------------+---------------+\n",
      "\n"
     ]
    }
   ],
   "source": [
    "session_times.filter((F.col('user_id') == 'U8') & (F.col('date') == '2025-08-13')).show()"
   ]
  },
  {
   "cell_type": "code",
   "execution_count": 11,
   "id": "4fa5ea45-0b23-4420-83d3-d0fb4640ac9c",
   "metadata": {},
   "outputs": [],
   "source": [
    "session_metrics = (\n",
    "    session_times.groupBy(\"user_id\",\"date\")\n",
    "    .agg(\n",
    "        F.collect_list(\"session_minutes\").alias(\"session_times\"),\n",
    "        F.sum(\"session_minutes\").alias(\"total_usage\"),\n",
    "        F.avg(\"session_minutes\").alias(\"avg_usage\"),\n",
    "        F.count(\"login_time\").alias(\"num_logins\")\n",
    "    )\n",
    ")"
   ]
  },
  {
   "cell_type": "code",
   "execution_count": 29,
   "id": "10bb39da-53ff-4746-b295-930931b5d218",
   "metadata": {},
   "outputs": [
    {
     "name": "stdout",
     "output_type": "stream",
     "text": [
      "+-------+----------+----------------+-----------+---------+----------+\n",
      "|user_id|      date|   session_times|total_usage|avg_usage|num_logins|\n",
      "+-------+----------+----------------+-----------+---------+----------+\n",
      "|     U1|2025-08-02|         [304.4]|      304.4|    304.4|         1|\n",
      "|     U1|2025-08-08|        [492.97]|     492.97|   492.97|         1|\n",
      "|     U1|2025-08-22|        [240.72]|     240.72|   240.72|         1|\n",
      "|     U1|2025-08-25|        [235.48]|     235.48|   235.48|         1|\n",
      "|     U1|2025-08-26|        [325.35]|     325.35|   325.35|         1|\n",
      "|    U10|2025-08-07|        [817.87]|     817.87|   817.87|         1|\n",
      "|    U10|2025-08-10|        [338.92]|     338.92|   338.92|         1|\n",
      "|    U10|2025-08-11|       [1193.62]|    1193.62|  1193.62|         1|\n",
      "|    U10|2025-08-19|        [846.25]|     846.25|   846.25|         1|\n",
      "|    U11|2025-08-28|        [1282.0]|     1282.0|   1282.0|         1|\n",
      "|    U12|2025-08-11|[821.87, 331.23]|     1153.1|   576.55|         2|\n",
      "|    U12|2025-08-12| [929.0, 206.18]|    1135.18|   567.59|         2|\n",
      "|    U12|2025-08-16|        [104.02]|     104.02|   104.02|         1|\n",
      "|    U12|2025-08-21|         [280.0]|      280.0|    280.0|         1|\n",
      "|    U12|2025-08-23|        [826.62]|     826.62|   826.62|         1|\n",
      "|    U13|2025-08-02|         [13.22]|      13.22|    13.22|         1|\n",
      "|    U13|2025-08-03|       [1123.95]|    1123.95|  1123.95|         1|\n",
      "|    U13|2025-08-09|        [124.83]|     124.83|   124.83|         1|\n",
      "|    U13|2025-08-16|        [943.35]|     943.35|   943.35|         1|\n",
      "|    U13|2025-08-17|        [797.08]|     797.08|   797.08|         1|\n",
      "+-------+----------+----------------+-----------+---------+----------+\n",
      "only showing top 20 rows\n",
      "\n"
     ]
    }
   ],
   "source": [
    "session_metrics.show()"
   ]
  },
  {
   "cell_type": "code",
   "execution_count": 32,
   "id": "bfd6c8be-d609-477f-b47c-2e76a2cd7fa7",
   "metadata": {},
   "outputs": [
    {
     "name": "stdout",
     "output_type": "stream",
     "text": [
      "+-------+----------+-------+-----+\n",
      "|user_id|      date| device|count|\n",
      "+-------+----------+-------+-----+\n",
      "|    U15|2025-08-16|desktop|    1|\n",
      "|    U38|2025-08-05| tablet|    1|\n",
      "|     U1|2025-08-26| tablet|    1|\n",
      "|     U3|2025-08-08| mobile|    1|\n",
      "|     U5|2025-08-13| mobile|    1|\n",
      "|    U12|2025-08-06| tablet|    1|\n",
      "|     U8|2025-08-25| tablet|    1|\n",
      "|    U47|2025-08-13|desktop|    1|\n",
      "|    U31|2025-08-16| mobile|    2|\n",
      "|    U34|2025-08-20| mobile|    1|\n",
      "|    U37|2025-08-14| mobile|    1|\n",
      "|    U11|2025-08-01| tablet|    1|\n",
      "|    U19|2025-08-18|desktop|    1|\n",
      "|    U41|2025-08-12| tablet|    1|\n",
      "|    U40|2025-08-18| tablet|    1|\n",
      "|     U8|2025-08-24| tablet|    1|\n",
      "|    U32|2025-08-09|desktop|    1|\n",
      "|    U40|2025-08-10|desktop|    1|\n",
      "|    U13|2025-08-06|desktop|    1|\n",
      "|    U28|2025-08-28|desktop|    1|\n",
      "+-------+----------+-------+-----+\n",
      "only showing top 20 rows\n",
      "\n"
     ]
    }
   ],
   "source": [
    "device_counts = (\n",
    "    df.groupBy(\"user_id\",\"date\",\"device\")\n",
    "      .count()\n",
    ")\n",
    "device_counts.show()"
   ]
  },
  {
   "cell_type": "code",
   "execution_count": 14,
   "id": "b1ef34f5-89a4-4b4e-b0c2-60845d2e5d4d",
   "metadata": {},
   "outputs": [],
   "source": [
    "w = W.partitionBy(\"user_id\",\"date\").orderBy(F.col(\"count\").desc())"
   ]
  },
  {
   "cell_type": "code",
   "execution_count": 34,
   "id": "507bbe73-4f12-4a47-a4eb-e4a1296c6416",
   "metadata": {},
   "outputs": [
    {
     "name": "stdout",
     "output_type": "stream",
     "text": [
      "+-------+----------+-----------+-----+\n",
      "|user_id|      date|most_device|count|\n",
      "+-------+----------+-----------+-----+\n",
      "|     U1|2025-08-01|     mobile|    1|\n",
      "|     U1|2025-08-02|     mobile|    2|\n",
      "|     U1|2025-08-04|     tablet|    1|\n",
      "|     U1|2025-08-05|     tablet|    1|\n",
      "|     U1|2025-08-07|     tablet|    1|\n",
      "|     U1|2025-08-08|    desktop|    1|\n",
      "|     U1|2025-08-10|     mobile|    1|\n",
      "|     U1|2025-08-11|     mobile|    1|\n",
      "|     U1|2025-08-12|    desktop|    1|\n",
      "|     U1|2025-08-15|     mobile|    1|\n",
      "|     U1|2025-08-22|    desktop|    1|\n",
      "|     U1|2025-08-24|     mobile|    1|\n",
      "|     U1|2025-08-25|    desktop|    1|\n",
      "|     U1|2025-08-26|     tablet|    1|\n",
      "|    U10|2025-08-02|     tablet|    1|\n",
      "|    U10|2025-08-03|     mobile|    2|\n",
      "|    U10|2025-08-04|     mobile|    1|\n",
      "|    U10|2025-08-06|     mobile|    1|\n",
      "|    U10|2025-08-07|    desktop|    3|\n",
      "|    U10|2025-08-09|    desktop|    1|\n",
      "+-------+----------+-----------+-----+\n",
      "only showing top 20 rows\n",
      "\n"
     ]
    }
   ],
   "source": [
    "most_device_df = (\n",
    "    device_counts.withColumn(\"rn\", F.row_number().over(w))\n",
    "                 .filter(F.col(\"rn\")==1)\n",
    "                 .select(\"user_id\",\"date\", F.col(\"device\").alias(\"most_device\"), 'count')\n",
    ")\n",
    "most_device_df.show()"
   ]
  },
  {
   "cell_type": "code",
   "execution_count": 35,
   "id": "0d6f9f63-e016-4abb-ab06-fe818ede4988",
   "metadata": {},
   "outputs": [
    {
     "name": "stdout",
     "output_type": "stream",
     "text": [
      "+-------+----------+---------+-----+\n",
      "|user_id|      date| location|count|\n",
      "+-------+----------+---------+-----+\n",
      "|    U19|2025-08-21|      USA|    2|\n",
      "|    U15|2025-08-23|       UK|    1|\n",
      "|    U16|2025-08-20|   Canada|    1|\n",
      "|    U25|2025-08-26|       UK|    1|\n",
      "|    U23|2025-08-09|Australia|    1|\n",
      "|    U14|2025-08-18|Australia|    1|\n",
      "|    U15|2025-08-04|      USA|    1|\n",
      "|    U43|2025-08-06|       UK|    3|\n",
      "|    U35|2025-08-03|      USA|    1|\n",
      "|    U41|2025-08-05|    India|    1|\n",
      "|    U37|2025-08-14|Australia|    1|\n",
      "|    U34|2025-08-11|      USA|    1|\n",
      "|    U43|2025-08-19|    India|    1|\n",
      "|    U27|2025-08-03|   Canada|    1|\n",
      "|     U8|2025-08-16|   Canada|    1|\n",
      "|    U49|2025-08-08|      USA|    1|\n",
      "|    U14|2025-08-23|Australia|    1|\n",
      "|    U20|2025-08-21|    India|    1|\n",
      "|    U30|2025-08-15|   Canada|    1|\n",
      "|    U20|2025-08-24|      USA|    1|\n",
      "+-------+----------+---------+-----+\n",
      "only showing top 20 rows\n",
      "\n"
     ]
    }
   ],
   "source": [
    "location_counts = (\n",
    "    df.groupBy(\"user_id\",\"date\",\"location\")\n",
    "      .count()\n",
    ")\n",
    "\n",
    "location_counts.show()"
   ]
  },
  {
   "cell_type": "code",
   "execution_count": 17,
   "id": "21792571-fa63-4f39-82ed-9c8dd9ef0f9b",
   "metadata": {},
   "outputs": [],
   "source": [
    "w2 = W.partitionBy(\"user_id\",\"date\").orderBy(F.col(\"count\").desc())"
   ]
  },
  {
   "cell_type": "code",
   "execution_count": 36,
   "id": "4676535e-1aac-49de-bd68-1e7326d48577",
   "metadata": {},
   "outputs": [
    {
     "name": "stdout",
     "output_type": "stream",
     "text": [
      "+-------+----------+------------+-----+\n",
      "|user_id|      date|top_location|count|\n",
      "+-------+----------+------------+-----+\n",
      "|     U1|2025-08-01|          UK|    2|\n",
      "|     U1|2025-08-02|   Australia|    2|\n",
      "|     U1|2025-08-04|   Australia|    1|\n",
      "|     U1|2025-08-05|         USA|    1|\n",
      "|     U1|2025-08-07|         USA|    1|\n",
      "|     U1|2025-08-08|   Australia|    1|\n",
      "|     U1|2025-08-10|         USA|    1|\n",
      "|     U1|2025-08-11|          UK|    1|\n",
      "|     U1|2025-08-12|       India|    2|\n",
      "|     U1|2025-08-15|         USA|    1|\n",
      "|     U1|2025-08-22|   Australia|    1|\n",
      "|     U1|2025-08-24|         USA|    1|\n",
      "|     U1|2025-08-25|          UK|    1|\n",
      "|     U1|2025-08-26|   Australia|    1|\n",
      "|    U10|2025-08-02|       India|    1|\n",
      "|    U10|2025-08-03|       India|    1|\n",
      "|    U10|2025-08-04|       India|    1|\n",
      "|    U10|2025-08-06|       India|    1|\n",
      "|    U10|2025-08-07|          UK|    1|\n",
      "|    U10|2025-08-09|          UK|    1|\n",
      "+-------+----------+------------+-----+\n",
      "only showing top 20 rows\n",
      "\n"
     ]
    }
   ],
   "source": [
    "top_location_df = (\n",
    "    location_counts.withColumn(\"rn\", F.row_number().over(w2))\n",
    "                   .filter(F.col(\"rn\")==1)\n",
    "                   .select(\"user_id\",\"date\", F.col(\"location\").alias(\"top_location\"), 'count')\n",
    ")\n",
    "\n",
    "top_location_df.show()"
   ]
  },
  {
   "cell_type": "code",
   "execution_count": 37,
   "id": "e82b4cbe-5b24-4a4b-94d7-be1ec909eb5e",
   "metadata": {},
   "outputs": [
    {
     "name": "stdout",
     "output_type": "stream",
     "text": [
      "+-------+----------+---------------+\n",
      "|user_id|      date|unique_browsers|\n",
      "+-------+----------+---------------+\n",
      "|    U31|2025-08-16|              3|\n",
      "|     U8|2025-08-25|              2|\n",
      "|    U43|2025-08-06|              3|\n",
      "|     U9|2025-08-22|              1|\n",
      "|    U17|2025-08-14|              1|\n",
      "|    U29|2025-08-04|              2|\n",
      "|    U39|2025-08-28|              1|\n",
      "|    U19|2025-08-03|              3|\n",
      "|    U49|2025-08-03|              1|\n",
      "|    U38|2025-08-03|              1|\n",
      "|    U35|2025-08-11|              1|\n",
      "|    U25|2025-08-12|              3|\n",
      "|    U19|2025-08-27|              3|\n",
      "|    U39|2025-08-13|              1|\n",
      "|     U6|2025-08-25|              1|\n",
      "|    U12|2025-08-24|              1|\n",
      "|    U16|2025-08-16|              2|\n",
      "|    U32|2025-08-21|              2|\n",
      "|    U29|2025-08-12|              1|\n",
      "|     U7|2025-08-06|              1|\n",
      "+-------+----------+---------------+\n",
      "only showing top 20 rows\n",
      "\n"
     ]
    }
   ],
   "source": [
    "unique_browsers_df = (\n",
    "    df.groupBy(\"user_id\",\"date\")\n",
    "      .agg(F.countDistinct(\"browser\").alias(\"unique_browsers\"))\n",
    ")\n",
    "\n",
    "unique_browsers_df.show()"
   ]
  },
  {
   "cell_type": "code",
   "execution_count": 20,
   "id": "9cc84ec6-37c6-453f-b670-3982b9b01a44",
   "metadata": {},
   "outputs": [],
   "source": [
    "other_metrics = (\n",
    "    most_device_df.join(top_location_df, [\"user_id\",\"date\"], \"outer\")\n",
    "                  .join(unique_browsers_df, [\"user_id\",\"date\"], \"outer\")\n",
    ")"
   ]
  },
  {
   "cell_type": "code",
   "execution_count": 21,
   "id": "f24b159b-5d98-41aa-b63a-73c290658069",
   "metadata": {},
   "outputs": [],
   "source": [
    "final_output = (\n",
    "    session_metrics.join(other_metrics, [\"user_id\",\"date\"], \"outer\")\n",
    "                   .join(event_counts, [\"user_id\",\"date\"], \"outer\")\n",
    "                   .na.fill(0)\n",
    ")"
   ]
  },
  {
   "cell_type": "code",
   "execution_count": 22,
   "id": "86b89aa7-5bbc-4bff-ad71-d3dfd00763d6",
   "metadata": {},
   "outputs": [
    {
     "name": "stdout",
     "output_type": "stream",
     "text": [
      "+-------+----------+-------------+-----------+---------+----------+-----------+------------+---------------+-----+------+-----+----+--------+\n",
      "|user_id|date      |session_times|total_usage|avg_usage|num_logins|most_device|top_location|unique_browsers|login|logout|click|view|purchase|\n",
      "+-------+----------+-------------+-----------+---------+----------+-----------+------------+---------------+-----+------+-----+----+--------+\n",
      "|U1     |2025-08-01|NULL         |0.0        |0.0      |0         |mobile     |UK          |2              |0    |0     |1    |0   |1       |\n",
      "|U1     |2025-08-02|[304.4]      |304.4      |304.4    |1         |mobile     |Australia   |2              |1    |2     |1    |0   |0       |\n",
      "|U1     |2025-08-04|NULL         |0.0        |0.0      |0         |tablet     |Australia   |1              |0    |0     |0    |0   |1       |\n",
      "|U1     |2025-08-05|NULL         |0.0        |0.0      |0         |tablet     |USA         |1              |0    |0     |0    |1   |0       |\n",
      "|U1     |2025-08-07|NULL         |0.0        |0.0      |0         |tablet     |USA         |1              |0    |0     |0    |0   |1       |\n",
      "|U1     |2025-08-08|[492.97]     |492.97     |492.97   |1         |desktop    |Australia   |1              |1    |0     |0    |0   |0       |\n",
      "|U1     |2025-08-10|NULL         |0.0        |0.0      |0         |mobile     |USA         |1              |0    |0     |0    |0   |1       |\n",
      "|U1     |2025-08-11|NULL         |0.0        |0.0      |0         |mobile     |UK          |1              |0    |0     |1    |0   |0       |\n",
      "|U1     |2025-08-12|NULL         |0.0        |0.0      |0         |desktop    |India       |2              |0    |0     |2    |0   |0       |\n",
      "|U1     |2025-08-15|NULL         |0.0        |0.0      |0         |mobile     |USA         |1              |0    |1     |0    |0   |0       |\n",
      "|U1     |2025-08-22|[240.72]     |240.72     |240.72   |1         |desktop    |Australia   |2              |1    |0     |1    |0   |0       |\n",
      "|U1     |2025-08-24|NULL         |0.0        |0.0      |0         |mobile     |USA         |1              |0    |0     |0    |0   |1       |\n",
      "|U1     |2025-08-25|[235.48]     |235.48     |235.48   |1         |desktop    |UK          |1              |1    |0     |0    |0   |0       |\n",
      "|U1     |2025-08-26|[325.35]     |325.35     |325.35   |1         |tablet     |Australia   |1              |1    |0     |0    |0   |0       |\n",
      "|U10    |2025-08-02|NULL         |0.0        |0.0      |0         |tablet     |India       |1              |0    |1     |0    |0   |0       |\n",
      "|U10    |2025-08-03|NULL         |0.0        |0.0      |0         |mobile     |India       |2              |0    |0     |2    |0   |0       |\n",
      "|U10    |2025-08-04|NULL         |0.0        |0.0      |0         |mobile     |India       |1              |0    |0     |0    |1   |0       |\n",
      "|U10    |2025-08-06|NULL         |0.0        |0.0      |0         |mobile     |India       |1              |0    |1     |0    |0   |0       |\n",
      "|U10    |2025-08-07|[817.87]     |817.87     |817.87   |1         |desktop    |UK          |2              |1    |0     |1    |1   |0       |\n",
      "|U10    |2025-08-09|NULL         |0.0        |0.0      |0         |desktop    |UK          |2              |0    |1     |0    |1   |0       |\n",
      "+-------+----------+-------------+-----------+---------+----------+-----------+------------+---------------+-----+------+-----+----+--------+\n",
      "only showing top 20 rows\n",
      "\n"
     ]
    }
   ],
   "source": [
    "final_output.show(truncate=False)  "
   ]
  },
  {
   "cell_type": "code",
   "execution_count": 24,
   "id": "b54771e5-16bb-4a9e-8f29-cfa3f86775ec",
   "metadata": {},
   "outputs": [
    {
     "name": "stdout",
     "output_type": "stream",
     "text": [
      "+-------+-------------------+----------+-------+---------+-------+----------+----------+\n",
      "|user_id|event_time         |event_type|device |location |browser|session_id|date      |\n",
      "+-------+-------------------+----------+-------+---------+-------+----------+----------+\n",
      "|U1     |2025-08-08 15:47:01|login     |desktop|Australia|Safari |S9952     |2025-08-08|\n",
      "+-------+-------------------+----------+-------+---------+-------+----------+----------+\n",
      "\n"
     ]
    }
   ],
   "source": [
    "df.filter((F.col(\"user_id\")==\"U1\") & (F.to_date(\"event_time\")==\"2025-08-08\")).orderBy(\"event_time\").show(truncate=False)"
   ]
  },
  {
   "cell_type": "code",
   "execution_count": null,
   "id": "374ea69f-2186-4b95-a191-f9873f4e14c5",
   "metadata": {},
   "outputs": [],
   "source": []
  }
 ],
 "metadata": {
  "kernelspec": {
   "display_name": "Python 3 (ipykernel)",
   "language": "python",
   "name": "python3"
  },
  "language_info": {
   "codemirror_mode": {
    "name": "ipython",
    "version": 3
   },
   "file_extension": ".py",
   "mimetype": "text/x-python",
   "name": "python",
   "nbconvert_exporter": "python",
   "pygments_lexer": "ipython3",
   "version": "3.10.18"
  }
 },
 "nbformat": 4,
 "nbformat_minor": 5
}
