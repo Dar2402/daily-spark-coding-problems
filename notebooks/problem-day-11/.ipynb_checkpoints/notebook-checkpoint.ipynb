{
 "cells": [
  {
   "cell_type": "code",
   "execution_count": 1,
   "id": "1f264707-1cf2-4dad-9f5c-e14c8295eba4",
   "metadata": {},
   "outputs": [],
   "source": [
    "from pyspark.sql import SparkSession\n",
    "from pyspark.sql import functions as F, Window as W\n",
    "from pyspark.sql.types import StructType, StructField, StringType, DateType, IntegerType\n",
    "from datetime import datetime"
   ]
  },
  {
   "cell_type": "code",
   "execution_count": 2,
   "id": "bab9b1cd-c4c8-4af4-88b6-241ddbd65c0f",
   "metadata": {},
   "outputs": [],
   "source": [
    "spark = SparkSession.builder.appName(\"DailyCodingProblem-day-11\").getOrCreate()"
   ]
  },
  {
   "cell_type": "markdown",
   "id": "930edfcd-2e5e-48a1-bf0f-abe318fb967a",
   "metadata": {},
   "source": [
    "## **Problem Scenario: E-commerce Orders Analysis**\n",
    "\n",
    "### **Background**\n",
    "\n",
    "You work as a Data Engineer for an e-commerce company. The raw order data contains details about customers, products, payment methods, prices, quantities, and order statuses.\n",
    "\n",
    "Your team needs to generate daily metrics and product-level insights to help business analysts track performance, identify top products, and analyze customer behavior.\n",
    "\n",
    "---\n",
    "\n",
    "## **Business Objectives**\n",
    "\n",
    "1. **Daily Sales Metrics**\n",
    "\n",
    "   * Total orders per day\n",
    "   * Total and average revenue per day\n",
    "   * Number of unique customers per day\n",
    "   * Percentage of cancelled orders\n",
    "\n",
    "2. **Top Products Analysis**\n",
    "\n",
    "   * Most sold products by quantity\n",
    "   * Highest revenue products per day\n",
    "   * Product category sales distribution\n",
    "\n",
    "3. **Customer Insights**\n",
    "\n",
    "   * Average order value per customer\n",
    "   * Total orders per customer\n",
    "   * Top paying customers\n",
    "\n",
    "4. **Payment Method Analysis**\n",
    "\n",
    "   * Count of orders by payment method\n",
    "   * Revenue split by payment method\n",
    "\n",
    "---\n",
    "\n",
    "## **Sample Input Table (Simplified)**\n",
    "\n",
    "| order\\_id | customer\\_id | product\\_id | category    | payment\\_method | order\\_time         | price  | quantity | total\\_amount | status    |\n",
    "| --------- | ------------ | ----------- | ----------- | --------------- | ------------------- | ------ | -------- | ------------- | --------- |\n",
    "| O125678   | C1           | P5          | Electronics | Credit Card     | 2025-08-20 09:15:00 | 250.00 | 2        | 500.00        | Completed |\n",
    "| O245789   | C2           | P10         | Clothing    | UPI             | 2025-08-20 09:30:00 | 50.00  | 1        | 50.00         | Completed |\n",
    "| O356890   | C1           | P2          | Electronics | PayPal          | 2025-08-20 10:00:00 | 100.00 | 3        | 300.00        | Cancelled |\n",
    "| O445678   | C3           | P7          | Books       | Debit Card      | 2025-08-20 11:00:00 | 75.00  | 1        | 75.00         | Completed |\n",
    "\n",
    "---\n",
    "This problem has **real-world complexity** with:\n",
    "\n",
    "* Missing values in `category` and `payment_method`\n",
    "* Cancellations impacting revenue\n",
    "* Daily aggregation needs\n",
    "* Top product and customer analysis\n",
    "\n",
    "---"
   ]
  },
  {
   "cell_type": "code",
   "execution_count": 3,
   "id": "200ede5d-1424-45b8-8169-fdd69e773ae1",
   "metadata": {},
   "outputs": [],
   "source": [
    "df = spark.read.format(\"csv\") \\\n",
    "    .options(header=True, inferSchema=True) \\\n",
    "    .load(\"/home/jupyter/work/data/sources/csv/day-11/ecommerce_orders.csv\")"
   ]
  },
  {
   "cell_type": "code",
   "execution_count": 4,
   "id": "c9d3ad1f-b5cf-464c-bd88-b016480cf95e",
   "metadata": {},
   "outputs": [
    {
     "name": "stdout",
     "output_type": "stream",
     "text": [
      "root\n",
      " |-- order_id: string (nullable = true)\n",
      " |-- customer_id: string (nullable = true)\n",
      " |-- product_id: string (nullable = true)\n",
      " |-- category: string (nullable = true)\n",
      " |-- payment_method: string (nullable = true)\n",
      " |-- order_time: timestamp (nullable = true)\n",
      " |-- price: double (nullable = true)\n",
      " |-- quantity: integer (nullable = true)\n",
      " |-- total_amount: double (nullable = true)\n",
      " |-- status: string (nullable = true)\n",
      "\n"
     ]
    }
   ],
   "source": [
    "df.printSchema()"
   ]
  },
  {
   "cell_type": "code",
   "execution_count": 5,
   "id": "597969ca-512b-4c8b-9ed3-c1fbe5a280ce",
   "metadata": {},
   "outputs": [],
   "source": [
    "df = df.withColumn(\n",
    "    \"date\",\n",
    "    F.to_date(F.col(\"order_time\"))\n",
    ").withColumn(\n",
    "    \"time\",\n",
    "    F.date_format(F.col(\"order_time\"), \"HH:mm:ss\")\n",
    ")"
   ]
  },
  {
   "cell_type": "markdown",
   "id": "cd460ced-54cb-4df2-8b36-a20b4ed63835",
   "metadata": {},
   "source": [
    "## **Expected Output 1 – Daily Metrics Table**\n",
    "\n",
    "| date       | total\\_orders | total\\_revenue | avg\\_revenue\\_per\\_order | unique\\_customers | cancelled\\_pct |\n",
    "| ---------- | ------------- | -------------- | ------------------------ | ----------------- | -------------- |\n",
    "| 2025-08-20 | 300           | 45250.00       | 150.83                   | 180               | 8%             |\n",
    "| 2025-08-21 | 295           | 46300.50       | 156.27                   | 175               | 9%             |\n",
    "\n",
    "---"
   ]
  },
  {
   "cell_type": "code",
   "execution_count": 24,
   "id": "c77fff78-126c-4b0e-bc42-1e1346e23bca",
   "metadata": {},
   "outputs": [
    {
     "name": "stdout",
     "output_type": "stream",
     "text": [
      "+----------+------------+------------------+----------------+----------------+---------------------+------------------+\n",
      "|      date|total_orders|     total_revenue|unique_customers|cancelled_orders|avg_revenue_per_order|     cancelled_pct|\n",
      "+----------+------------+------------------+----------------+----------------+---------------------+------------------+\n",
      "|2025-08-20|         300|         211577.96|             163|              31|    705.2598666666667|10.333333333333334|\n",
      "|2025-08-22|         300|198231.27000000005|             158|              29|    660.7709000000002| 9.666666666666666|\n",
      "|2025-08-23|         300|226806.84000000005|             167|              22|    756.0228000000002| 7.333333333333333|\n",
      "|2025-08-21|         300|         198488.13|             164|              28|             661.6271| 9.333333333333334|\n",
      "|2025-08-24|         300| 221393.3899999999|             154|              38|    737.9779666666664|12.666666666666668|\n",
      "+----------+------------+------------------+----------------+----------------+---------------------+------------------+\n",
      "\n"
     ]
    }
   ],
   "source": [
    "daily_metrics_df = (\n",
    "    df.groupBy(\"date\")\n",
    "      .agg(\n",
    "          F.count_distinct(\"order_id\").alias(\"total_orders\"),\n",
    "          F.sum(\n",
    "              F.when(F.col(\"status\") == \"Completed\", F.col(\"total_amount\")).otherwise(0)\n",
    "          ).alias(\"total_revenue\"),\n",
    "          F.count_distinct(\"customer_id\").alias(\"unique_customers\"),\n",
    "          F.sum(F.when(F.col(\"status\") == \"Cancelled\", 1).otherwise(0)).alias(\"cancelled_orders\")\n",
    "      )\n",
    "      .withColumn(\"avg_revenue_per_order\", \n",
    "                  F.when(F.col(\"total_orders\") > 0, \n",
    "                         F.col(\"total_revenue\") / F.col(\"total_orders\"))\n",
    "                   .otherwise(0))\n",
    "      .withColumn(\"cancelled_pct\", \n",
    "                  (F.col(\"cancelled_orders\") / F.col(\"total_orders\")) * 100)\n",
    ")\n",
    "\n",
    "\n",
    "daily_metrics_df.show()"
   ]
  },
  {
   "cell_type": "markdown",
   "id": "375d1639-ab2f-4622-9f19-e01df37a52c5",
   "metadata": {},
   "source": [
    "## **Expected Output 2 – Top Products Table**\n",
    "\n",
    "| date       | product\\_id | category    | total\\_quantity | total\\_revenue |\n",
    "| ---------- | ----------- | ----------- | --------------- | -------------- |\n",
    "| 2025-08-20 | P5          | Electronics | 35              | 8750.00        |\n",
    "| 2025-08-20 | P10         | Clothing    | 28              | 1400.00        |\n",
    "| 2025-08-20 | P2          | Electronics | 20              | 6000.00        |\n",
    "\n",
    "---"
   ]
  },
  {
   "cell_type": "code",
   "execution_count": 28,
   "id": "318a5969-1834-41e9-8452-cc17e5fe43c2",
   "metadata": {},
   "outputs": [
    {
     "name": "stdout",
     "output_type": "stream",
     "text": [
      "+----------+----------+-----------+--------------+------------------+\n",
      "|      date|product_id|   category|total_quantity|     total_revenue|\n",
      "+----------+----------+-----------+--------------+------------------+\n",
      "|2025-08-20|       P40|       Home|            18|           6025.22|\n",
      "|2025-08-20|       P27|Electronics|            12|           4806.57|\n",
      "|2025-08-20|       P24|      Books|            14|4075.7999999999997|\n",
      "|2025-08-20|       P40|   Clothing|             9|3932.7999999999997|\n",
      "|2025-08-20|       P26|       Home|            13|           3856.45|\n",
      "|2025-08-20|       P31|   Clothing|             9|           3680.52|\n",
      "|2025-08-20|       P41|Electronics|            11|           3398.16|\n",
      "|2025-08-20|       P14|      Books|            13|            3365.8|\n",
      "|2025-08-20|       P23|Electronics|             7|           2929.17|\n",
      "|2025-08-20|       P30|     Sports|             6|           2862.24|\n",
      "|2025-08-20|       P43|   Clothing|             7|           2744.65|\n",
      "|2025-08-20|        P7|      Books|             9|           2629.61|\n",
      "|2025-08-20|        P2|   Clothing|             8|            2593.0|\n",
      "|2025-08-20|       P19|     Sports|            10|           2522.75|\n",
      "|2025-08-20|       P43|       Home|            12|2471.2799999999997|\n",
      "|2025-08-20|        P7|     Sports|             8|           2452.43|\n",
      "|2025-08-20|       P50|   Clothing|             5|           2413.85|\n",
      "|2025-08-20|       P39|      Books|             6|           2315.66|\n",
      "|2025-08-20|       P40|Electronics|             8|           2265.29|\n",
      "|2025-08-20|       P50|      Books|             5|            2261.3|\n",
      "+----------+----------+-----------+--------------+------------------+\n",
      "only showing top 20 rows\n",
      "\n"
     ]
    }
   ],
   "source": [
    "top_products_df = top_products_df = (\n",
    "    df.filter(F.col(\"status\") == \"Completed\")  \n",
    "      .groupBy(\"date\", \"product_id\", \"category\")\n",
    "      .agg(\n",
    "          F.sum(\"quantity\").alias(\"total_quantity\"), \n",
    "          F.sum(\"total_amount\").alias(\"total_revenue\")\n",
    "      )\n",
    "      .orderBy(\"date\", F.col(\"total_revenue\").desc())\n",
    ")\n",
    "\n",
    "top_products_df.show()"
   ]
  },
  {
   "cell_type": "markdown",
   "id": "ddf5d1fe-e890-4001-8b9c-c97bfa8c75ba",
   "metadata": {},
   "source": [
    "\n",
    "## **Expected Output 3 – Payment Method Analysis**\n",
    "\n",
    "| date       | payment\\_method | order\\_count | total\\_revenue |\n",
    "| ---------- | --------------- | ------------ | -------------- |\n",
    "| 2025-08-20 | Credit Card     | 120          | 25000.00       |\n",
    "| 2025-08-20 | UPI             | 80           | 10000.00       |\n",
    "| 2025-08-20 | PayPal          | 50           | 5200.00        |\n",
    "\n",
    "---\n"
   ]
  },
  {
   "cell_type": "code",
   "execution_count": 29,
   "id": "3bddb50c-531a-4e06-8791-a8fed6097624",
   "metadata": {},
   "outputs": [
    {
     "name": "stdout",
     "output_type": "stream",
     "text": [
      "+----------+--------------+-----------+------------------+\n",
      "|      date|payment_method|order_count|     total_revenue|\n",
      "+----------+--------------+-----------+------------------+\n",
      "|2025-08-20|    Debit Card|         53| 36810.10999999999|\n",
      "|2025-08-20|          Cash|         37|          27228.96|\n",
      "|2025-08-20|          NULL|          4|           2725.61|\n",
      "|2025-08-20|        PayPal|         57| 48285.51999999998|\n",
      "|2025-08-20|   Credit Card|         62|          46299.59|\n",
      "|2025-08-20|           UPI|         56| 50228.16999999999|\n",
      "|2025-08-21|        PayPal|         49|          35229.47|\n",
      "|2025-08-21|    Debit Card|         58| 46197.82000000002|\n",
      "|2025-08-21|   Credit Card|         50|          34317.95|\n",
      "|2025-08-21|          NULL|          8|5949.9400000000005|\n",
      "|2025-08-21|           UPI|         57|45653.829999999994|\n",
      "|2025-08-21|          Cash|         50|31139.120000000003|\n",
      "|2025-08-22|    Debit Card|         55| 33564.27999999999|\n",
      "|2025-08-22|           UPI|         58| 43555.46000000001|\n",
      "|2025-08-22|          Cash|         57| 43853.25999999999|\n",
      "|2025-08-22|   Credit Card|         55|41156.400000000016|\n",
      "|2025-08-22|          NULL|          2|            882.47|\n",
      "|2025-08-22|        PayPal|         44|           35219.4|\n",
      "|2025-08-23|   Credit Card|         54|47533.619999999995|\n",
      "|2025-08-23|          NULL|          5|3156.2200000000003|\n",
      "+----------+--------------+-----------+------------------+\n",
      "only showing top 20 rows\n",
      "\n"
     ]
    }
   ],
   "source": [
    "payment_method_df = df.filter(F.col(\"status\") == \"Completed\").groupBy(\n",
    "    \"date\",\n",
    "    \"payment_method\",\n",
    ").agg(\n",
    "    F.count(\"order_id\").alias(\"order_count\"),\n",
    "    F.sum(\"total_amount\").alias(\"total_revenue\")\n",
    ").orderBy(\"date\")\n",
    "\n",
    "\n",
    "payment_method_df.show()"
   ]
  }
 ],
 "metadata": {
  "kernelspec": {
   "display_name": "Python 3 (ipykernel)",
   "language": "python",
   "name": "python3"
  },
  "language_info": {
   "codemirror_mode": {
    "name": "ipython",
    "version": 3
   },
   "file_extension": ".py",
   "mimetype": "text/x-python",
   "name": "python",
   "nbconvert_exporter": "python",
   "pygments_lexer": "ipython3",
   "version": "3.10.18"
  }
 },
 "nbformat": 4,
 "nbformat_minor": 5
}
