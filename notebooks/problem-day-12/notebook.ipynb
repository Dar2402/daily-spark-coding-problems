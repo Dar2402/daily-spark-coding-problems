{
 "cells": [
  {
   "cell_type": "code",
   "execution_count": 1,
   "id": "c4269270-8b8d-4a1d-9108-4bf95f7c2251",
   "metadata": {},
   "outputs": [],
   "source": [
    "from pyspark.sql import SparkSession\n",
    "from pyspark.sql import functions as F, Window as W\n",
    "from pyspark.sql.types import StructType, StructField, StringType, DateType, IntegerType\n",
    "from datetime import datetime"
   ]
  },
  {
   "cell_type": "code",
   "execution_count": 2,
   "id": "d0f9f05c-3b09-4071-87c4-2c9e46e96e93",
   "metadata": {},
   "outputs": [],
   "source": [
    "spark = SparkSession.builder.appName(\"DailyCodingProblem-day-11\").getOrCreate()"
   ]
  },
  {
   "cell_type": "markdown",
   "id": "c07032b4-2c32-4bd6-b0dc-0e56aa7c9ba9",
   "metadata": {},
   "source": [
    "## **Problem Scenario: Online Learning Engagement Analysis**\n",
    "\n",
    "### **Background**\n",
    "\n",
    "You are working for an online learning platform (like Coursera or Udemy).\n",
    "The platform tracks student activities such as **logins, watching videos, attempting quizzes, completing courses, and forum participation** across multiple courses and devices.\n",
    "\n",
    "However, the raw data contains:\n",
    "\n",
    "* Missing device/location information\n",
    "* Multiple activity types per student per day\n",
    "* Varying engagement durations for different activities\n",
    "\n",
    "The company wants **daily engagement analytics** and **course-level insights** for product and academic teams.\n",
    "\n",
    "---\n",
    "\n",
    "## **Business Objectives**\n",
    "\n",
    "1. **Daily Engagement Metrics**\n",
    "\n",
    "   * Total active students per day\n",
    "   * Total activities per day\n",
    "   * Average session duration per day\n",
    "   * Device and location distribution\n",
    "\n",
    "2. **Course-Level Analytics**\n",
    "\n",
    "   * Course completion rates\n",
    "   * Top 5 courses by engagement time\n",
    "   * Unique students per course per day\n",
    "\n",
    "3. **Student Behavior Metrics**\n",
    "\n",
    "   * Average time spent per student per day\n",
    "   * Number of quizzes attempted per student\n",
    "   * Students completing at least 1 course per week\n",
    "\n",
    "---\n",
    "\n",
    "## **Sample Input Table (Simplified)**\n",
    "\n",
    "| activity\\_id | student\\_id | course\\_id | activity\\_type   | activity\\_time      | device  | location | duration\\_minutes |\n",
    "| ------------ | ----------- | ---------- | ---------------- | ------------------- | ------- | -------- | ----------------- |\n",
    "| A123456      | S1          | C2         | Login            | 2025-08-20 09:15:00 | Mobile  | USA      |                   |\n",
    "| A234567      | S1          | C2         | Watch\\_Video     | 2025-08-20 09:30:00 | Mobile  | USA      | 20                |\n",
    "| A345678      | S2          | C3         | Attempt\\_Quiz    | 2025-08-20 10:00:00 | Desktop | India    | 15                |\n",
    "| A456789      | S3          | C5         | Complete\\_Course | 2025-08-20 11:00:00 | Tablet  | UK       |                   |\n",
    "| A567890      | S1          | C2         | Forum\\_Post      | 2025-08-20 11:20:00 | Mobile  | USA      |                   |\n",
    "\n",
    "---\n",
    "\n",
    "## **Expected Output 1 – Daily Engagement Metrics**\n",
    "\n",
    "| date       | total\\_activities | unique\\_students | avg\\_duration\\_per\\_activity | top\\_device | top\\_location |\n",
    "| ---------- | ----------------- | ---------------- | ---------------------------- | ----------- | ------------- |\n",
    "| 2025-08-20 | 400               | 120              | 18.5 mins                    | Mobile      | India         |\n",
    "| 2025-08-21 | 390               | 118              | 17.2 mins                    | Desktop     | USA           |\n",
    "\n",
    "---\n",
    "\n",
    "## **Expected Output 2 – Course-Level Analytics**\n",
    "\n",
    "| date       | course\\_id | completion\\_rate(%) | total\\_time\\_spent | unique\\_students |\n",
    "| ---------- | ---------- | ------------------- | ------------------ | ---------------- |\n",
    "| 2025-08-20 | C2         | 35%                 | 1200 mins          | 45               |\n",
    "| 2025-08-20 | C3         | 28%                 | 850 mins           | 38               |\n",
    "| 2025-08-20 | C5         | 40%                 | 600 mins           | 20               |\n",
    "\n",
    "---\n",
    "\n",
    "## **Expected Output 3 – Student Behavior Metrics**\n",
    "\n",
    "| student\\_id | date       | total\\_time\\_spent | quizzes\\_attempted | courses\\_completed |\n",
    "| ----------- | ---------- | ------------------ | ------------------ | ------------------ |\n",
    "| S1          | 2025-08-20 | 250 mins           | 2                  | 1                  |\n",
    "| S2          | 2025-08-20 | 180 mins           | 1                  | 0                  |\n",
    "| S3          | 2025-08-20 | 75 mins            | 0                  | 1                  |\n",
    "\n",
    "---\n",
    "\n",
    "This scenario mimics **real-world complexity** with:\n",
    "\n",
    "* Missing values handling\n",
    "* Per-day, per-course, and per-student aggregations\n",
    "* Multiple dimensions like device, location, and activity types\n",
    "\n",
    "---"
   ]
  },
  {
   "cell_type": "code",
   "execution_count": 3,
   "id": "1d143fa9-f088-4ab3-b7d6-d2c33e97929f",
   "metadata": {},
   "outputs": [],
   "source": [
    "df = spark.read.csv(\n",
    "    \"/home/jupyter/work/data/sources/csv/day-12/online_learning_activity.csv\", header=True, inferSchema=True\n",
    ")"
   ]
  },
  {
   "cell_type": "code",
   "execution_count": 4,
   "id": "65e8c757-c9d5-4272-8533-5582e3a50e18",
   "metadata": {},
   "outputs": [
    {
     "name": "stdout",
     "output_type": "stream",
     "text": [
      "root\n",
      " |-- activity_id: string (nullable = true)\n",
      " |-- student_id: string (nullable = true)\n",
      " |-- course_id: string (nullable = true)\n",
      " |-- activity_type: string (nullable = true)\n",
      " |-- activity_time: timestamp (nullable = true)\n",
      " |-- device: string (nullable = true)\n",
      " |-- location: string (nullable = true)\n",
      " |-- duration_minutes: double (nullable = true)\n",
      "\n"
     ]
    }
   ],
   "source": [
    "df.printSchema()"
   ]
  },
  {
   "cell_type": "code",
   "execution_count": 6,
   "id": "ea1bf169-0449-49d1-a0b4-24564ab7861c",
   "metadata": {},
   "outputs": [
    {
     "name": "stdout",
     "output_type": "stream",
     "text": [
      "+-----------+----------+---------+---------------+-------------------+-------+---------+----------------+----------+--------+\n",
      "|activity_id|student_id|course_id|  activity_type|      activity_time| device| location|duration_minutes|      date|    time|\n",
      "+-----------+----------+---------+---------------+-------------------+-------+---------+----------------+----------+--------+\n",
      "|    A274850|       S27|      C13|Complete_Course|2025-08-21 08:20:00| Tablet|   Canada|            NULL|2025-08-21|08:20:00|\n",
      "|    A110285|       S25|       C8|     Forum_Post|2025-08-21 06:09:00| Tablet|   Canada|            NULL|2025-08-21|06:09:00|\n",
      "|    A490154|       S72|      C15|    Watch_Video|2025-08-26 13:36:00|Desktop|      USA|            33.0|2025-08-26|13:36:00|\n",
      "|    A618340|      S100|      C18|          Login|2025-08-25 13:38:00| Mobile|       UK|            NULL|2025-08-25|13:38:00|\n",
      "|    A245486|      S126|      C10|          Login|2025-08-25 10:14:00|Desktop|    India|            NULL|2025-08-25|10:14:00|\n",
      "|    A847712|        S7|      C17|          Login|2025-08-26 15:51:00| Mobile|      USA|            NULL|2025-08-26|15:51:00|\n",
      "|    A884575|      S120|      C16|    Watch_Video|2025-08-21 17:54:00| Mobile|Australia|            29.0|2025-08-21|17:54:00|\n",
      "|    A250169|      S105|      C10|Complete_Course|2025-08-22 06:18:00| Mobile|       UK|            NULL|2025-08-22|06:18:00|\n",
      "|    A338620|       S15|      C14|          Login|2025-08-22 04:08:00| Tablet|       UK|            NULL|2025-08-22|04:08:00|\n",
      "|    A502175|      S118|       C4|   Attempt_Quiz|2025-08-23 15:17:00| Tablet|   Canada|            22.0|2025-08-23|15:17:00|\n",
      "|    A741978|      S108|      C11|    Watch_Video|2025-08-24 04:58:00| Tablet|Australia|             1.0|2025-08-24|04:58:00|\n",
      "|    A757951|       S19|      C15|Complete_Course|2025-08-20 18:57:00|Desktop|    India|            NULL|2025-08-20|18:57:00|\n",
      "|    A952084|       S87|      C15|          Login|2025-08-22 00:44:00| Tablet|Australia|            NULL|2025-08-22|00:44:00|\n",
      "|    A593317|       S71|      C12|Complete_Course|2025-08-23 09:28:00| Tablet|Australia|            NULL|2025-08-23|09:28:00|\n",
      "|    A479991|        S3|      C20|     Forum_Post|2025-08-20 15:31:00| Tablet|       UK|            NULL|2025-08-20|15:31:00|\n",
      "|    A941776|       S75|      C15|Complete_Course|2025-08-23 17:39:00| Tablet|      USA|            NULL|2025-08-23|17:39:00|\n",
      "|    A878883|       S35|      C15|   Attempt_Quiz|2025-08-22 22:11:00| Mobile|    India|            15.0|2025-08-22|22:11:00|\n",
      "|    A297561|      S133|      C19|Complete_Course|2025-08-20 05:45:00| Mobile|       NA|            NULL|2025-08-20|05:45:00|\n",
      "|    A311313|      S142|      C12|Complete_Course|2025-08-21 00:20:00|Desktop|       UK|            NULL|2025-08-21|00:20:00|\n",
      "|    A643678|       S60|       C5|Complete_Course|2025-08-24 12:38:00| Tablet|    India|            NULL|2025-08-24|12:38:00|\n",
      "+-----------+----------+---------+---------------+-------------------+-------+---------+----------------+----------+--------+\n",
      "only showing top 20 rows\n",
      "\n"
     ]
    }
   ],
   "source": [
    "df = df.fillna({\"device\": \"NA\", \"location\": \"NA\"})\n",
    "df = df.withColumn(\n",
    "    \"date\", \n",
    "    F.to_date(\"activity_time\")\n",
    ").withColumn(\n",
    "    \"time\",\n",
    "    F.date_format(\"activity_time\", format=\"HH:mm:ss\")\n",
    ")\n",
    "\n",
    "df.show()"
   ]
  },
  {
   "cell_type": "code",
   "execution_count": 8,
   "id": "6a8b7679-8c0e-4af9-9893-00f349778cba",
   "metadata": {},
   "outputs": [],
   "source": [
    "daily_engagement_df = (\n",
    "    df.groupBy(\"date\")\n",
    "      .agg(\n",
    "          F.count(\"*\").alias(\"total_activities\"),\n",
    "          F.countDistinct(\"student_id\").alias(\"unique_students\"),\n",
    "          F.avg(\"duration_minutes\").alias(\"avg_duration_per_activity\")\n",
    "      )\n",
    ")"
   ]
  },
  {
   "cell_type": "code",
   "execution_count": 10,
   "id": "ae4789d6-0dbd-416c-b6fa-dafcfe61c126",
   "metadata": {},
   "outputs": [],
   "source": [
    "device_window = W.partitionBy(\"date\").orderBy(F.desc(\"device_count\"))\n",
    "location_window = W.partitionBy(\"date\").orderBy(F.desc(\"location_count\"))"
   ]
  },
  {
   "cell_type": "code",
   "execution_count": 11,
   "id": "5e7db0bd-b466-4b73-8b8f-26b8ab513a8d",
   "metadata": {},
   "outputs": [],
   "source": [
    "daily_device_location_df = (\n",
    "    df.groupBy(\"date\", \"device\", \"location\")\n",
    "      .agg(\n",
    "          F.count(\"*\").alias(\"activity_count\"),\n",
    "          F.count(\"*\").alias(\"device_count\"),  \n",
    "          F.count(\"*\").alias(\"location_count\")\n",
    "      )\n",
    "      .withColumn(\"device_rank\", F.rank().over(device_window))\n",
    "      .withColumn(\"location_rank\", F.rank().over(location_window))\n",
    "      .filter((F.col(\"device_rank\") == 1) | (F.col(\"location_rank\") == 1))\n",
    "      .groupBy(\"date\")\n",
    "      .agg(\n",
    "          F.first(F.col(\"device\")).alias(\"top_device\"),\n",
    "          F.first(F.col(\"location\")).alias(\"top_location\")\n",
    "      )\n",
    ")"
   ]
  },
  {
   "cell_type": "code",
   "execution_count": 13,
   "id": "0e3a4476-4b14-42b7-891a-2a247cc3abcf",
   "metadata": {},
   "outputs": [
    {
     "name": "stdout",
     "output_type": "stream",
     "text": [
      "+----------+----------------+---------------+-------------------------+----------+------------+\n",
      "|date      |total_activities|unique_students|avg_duration_per_activity|top_device|top_location|\n",
      "+----------+----------------+---------------+-------------------------+----------+------------+\n",
      "|2025-08-25|400             |141            |31.7816091954023         |Tablet    |Canada      |\n",
      "|2025-08-26|399             |141            |27.466257668711656       |Mobile    |USA         |\n",
      "|2025-08-20|400             |138            |31.251851851851853       |Desktop   |USA         |\n",
      "|2025-08-22|400             |141            |30.58219178082192        |Desktop   |USA         |\n",
      "|2025-08-23|400             |139            |27.770114942528735       |Tablet    |USA         |\n",
      "|2025-08-21|400             |139            |29.388235294117646       |Mobile    |UK          |\n",
      "|2025-08-27|1               |1              |9.0                      |Tablet    |USA         |\n",
      "|2025-08-24|400             |136            |29.4625                  |Mobile    |UK          |\n",
      "+----------+----------------+---------------+-------------------------+----------+------------+\n",
      "\n"
     ]
    }
   ],
   "source": [
    "final_daily = daily_engagement_df.join(daily_device_location_df, \"date\")\n",
    "\n",
    "final_daily.show(truncate=False)"
   ]
  },
  {
   "cell_type": "code",
   "execution_count": 14,
   "id": "b6ac1916-f25b-41a9-a21b-49c101201103",
   "metadata": {},
   "outputs": [],
   "source": [
    "course_stats_df = (\n",
    "    df.groupBy(\"date\", \"course_id\")\n",
    "      .agg(\n",
    "          F.countDistinct(\"student_id\").alias(\"unique_students\"),\n",
    "          F.countDistinct(\n",
    "              F.when(F.col(\"activity_type\") == \"Complete_Course\", F.col(\"student_id\"))\n",
    "          ).alias(\"completed_students\"),\n",
    "          F.sum(\"duration_minutes\").alias(\"total_time_spent\")\n",
    "      )\n",
    "      .withColumn(\"completion_rate\",\n",
    "                  (F.col(\"completed_students\") / F.col(\"unique_students\")) * 100)\n",
    ")"
   ]
  },
  {
   "cell_type": "code",
   "execution_count": 19,
   "id": "0399f15c-27ef-4338-991e-56ab0d7a40a2",
   "metadata": {},
   "outputs": [
    {
     "name": "stdout",
     "output_type": "stream",
     "text": [
      "+----------+---------+---------------+------------------+----------------+------------------+\n",
      "|      date|course_id|unique_students|completed_students|total_time_spent|   completion_rate|\n",
      "+----------+---------+---------------+------------------+----------------+------------------+\n",
      "|2025-08-23|      C15|             23|                 5|           362.0| 21.73913043478261|\n",
      "|2025-08-25|      C10|             27|                 6|           491.0| 22.22222222222222|\n",
      "|2025-08-20|      C14|             22|                 7|           344.0|31.818181818181817|\n",
      "|2025-08-20|       C8|             15|                 5|           186.0| 33.33333333333333|\n",
      "|2025-08-22|       C5|             22|                 6|           248.0| 27.27272727272727|\n",
      "|2025-08-20|       C4|             19|                 4|           182.0|21.052631578947366|\n",
      "|2025-08-22|      C11|             24|                 7|           262.0|29.166666666666668|\n",
      "|2025-08-22|      C13|             23|                 5|           191.0| 21.73913043478261|\n",
      "|2025-08-20|      C13|             13|                 3|           106.0|23.076923076923077|\n",
      "|2025-08-23|       C8|             14|                 2|           128.0|14.285714285714285|\n",
      "|2025-08-21|       C3|             21|                 4|           420.0|19.047619047619047|\n",
      "|2025-08-25|       C2|             22|                 3|           299.0|13.636363636363635|\n",
      "|2025-08-20|      C11|             23|                 7|           244.0|30.434782608695656|\n",
      "|2025-08-26|       C7|             16|                 2|           293.0|              12.5|\n",
      "|2025-08-25|       C1|             11|                 4|           233.0| 36.36363636363637|\n",
      "|2025-08-25|       C6|             19|                 1|           299.0| 5.263157894736842|\n",
      "|2025-08-25|      C12|             16|                 4|           109.0|              25.0|\n",
      "|2025-08-20|      C20|             17|                 4|            79.0| 23.52941176470588|\n",
      "|2025-08-21|       C1|             25|                 6|           273.0|              24.0|\n",
      "|2025-08-21|      C19|             23|                 6|           195.0| 26.08695652173913|\n",
      "+----------+---------+---------------+------------------+----------------+------------------+\n",
      "only showing top 20 rows\n",
      "\n"
     ]
    }
   ],
   "source": [
    "course_stats_df.show()"
   ]
  },
  {
   "cell_type": "code",
   "execution_count": 16,
   "id": "f31898a1-674e-48cc-8ba9-282cb8763249",
   "metadata": {},
   "outputs": [],
   "source": [
    "w = W.partitionBy(\"date\").orderBy(F.desc(\"total_time_spent\"))"
   ]
  },
  {
   "cell_type": "code",
   "execution_count": 20,
   "id": "a3987aca-2a91-47e1-bf3d-32050432af9c",
   "metadata": {},
   "outputs": [
    {
     "name": "stdout",
     "output_type": "stream",
     "text": [
      "+----------+---------+---------------+------------------+----------------+------------------+----+\n",
      "|      date|course_id|unique_students|completed_students|total_time_spent|   completion_rate|rank|\n",
      "+----------+---------+---------------+------------------+----------------+------------------+----+\n",
      "|2025-08-20|       C5|             24|                 7|           454.0|29.166666666666668|   1|\n",
      "|2025-08-20|      C14|             22|                 7|           344.0|31.818181818181817|   2|\n",
      "|2025-08-20|       C6|             16|                 4|           312.0|              25.0|   3|\n",
      "|2025-08-20|       C3|             24|                 8|           310.0| 33.33333333333333|   4|\n",
      "|2025-08-20|      C15|             26|                10|           286.0| 38.46153846153847|   5|\n",
      "|2025-08-21|       C3|             21|                 4|           420.0|19.047619047619047|   1|\n",
      "|2025-08-21|      C20|             21|                 5|           338.0|23.809523809523807|   2|\n",
      "|2025-08-21|      C10|             21|                 6|           324.0| 28.57142857142857|   3|\n",
      "|2025-08-21|      C17|             18|                 2|           310.0| 11.11111111111111|   4|\n",
      "|2025-08-21|      C16|             17|                 6|           309.0|35.294117647058826|   5|\n",
      "|2025-08-22|      C18|             25|                 4|           466.0|              16.0|   1|\n",
      "|2025-08-22|      C10|             24|                 4|           442.0|16.666666666666664|   2|\n",
      "|2025-08-22|      C19|             21|                 6|           316.0| 28.57142857142857|   3|\n",
      "|2025-08-22|      C20|             16|                 3|           277.0|             18.75|   4|\n",
      "|2025-08-22|      C14|             19|                 3|           265.0|15.789473684210526|   5|\n",
      "|2025-08-23|      C17|             25|                 7|           378.0|28.000000000000004|   1|\n",
      "|2025-08-23|      C11|             22|                 3|           363.0|13.636363636363635|   2|\n",
      "|2025-08-23|      C15|             23|                 5|           362.0| 21.73913043478261|   3|\n",
      "|2025-08-23|       C3|             22|                 3|           320.0|13.636363636363635|   4|\n",
      "|2025-08-23|       C5|             19|                 3|           298.0|15.789473684210526|   5|\n",
      "+----------+---------+---------------+------------------+----------------+------------------+----+\n",
      "only showing top 20 rows\n",
      "\n"
     ]
    }
   ],
   "source": [
    "top_5_courses_df = (\n",
    "    course_stats_df.withColumn(\"rank\", F.rank().over(w))\n",
    "                .filter(F.col(\"rank\") <= 5)\n",
    ")\n",
    "top_5_courses_df.show()"
   ]
  },
  {
   "cell_type": "code",
   "execution_count": 22,
   "id": "e6488805-e8a2-4d58-8698-2cd462249b21",
   "metadata": {},
   "outputs": [
    {
     "name": "stdout",
     "output_type": "stream",
     "text": [
      "+----------+----------+----------------+-----------------+-----------------+\n",
      "|student_id|      date|total_time_spent|quizzes_attempted|courses_completed|\n",
      "+----------+----------+----------------+-----------------+-----------------+\n",
      "|      S132|2025-08-24|             0.0|                0|                2|\n",
      "|      S144|2025-08-26|            30.0|                0|                1|\n",
      "|       S60|2025-08-23|            39.0|                1|                1|\n",
      "|       S54|2025-08-25|            40.0|                0|                0|\n",
      "|       S73|2025-08-22|             0.0|                0|                0|\n",
      "|       S99|2025-08-24|            31.0|                2|                2|\n",
      "|       S42|2025-08-21|            35.0|                2|                1|\n",
      "|       S45|2025-08-23|             0.0|                0|                1|\n",
      "|      S126|2025-08-26|            55.0|                0|                0|\n",
      "|       S89|2025-08-25|            46.0|                1|                0|\n",
      "|       S33|2025-08-22|            44.0|                0|                1|\n",
      "|       S22|2025-08-21|             0.0|                0|                1|\n",
      "|        S4|2025-08-23|             0.0|                0|                1|\n",
      "|      S124|2025-08-24|            13.0|                1|                0|\n",
      "|       S51|2025-08-26|            11.0|                0|                0|\n",
      "|       S36|2025-08-24|            32.0|                1|                1|\n",
      "|       S31|2025-08-25|            27.0|                1|                1|\n",
      "|       S15|2025-08-26|           117.0|                2|                1|\n",
      "|       S76|2025-08-25|            38.0|                1|                0|\n",
      "|        S6|2025-08-20|            43.0|                1|                0|\n",
      "+----------+----------+----------------+-----------------+-----------------+\n",
      "only showing top 20 rows\n",
      "\n"
     ]
    }
   ],
   "source": [
    "student_behavior_df = df.groupBy(\"student_id\", \"date\").agg(\n",
    "    F.sum(F.coalesce(\"duration_minutes\", F.lit(0))).alias(\"total_time_spent\"),\n",
    "    F.sum(F.when(F.col(\"activity_type\") == \"Attempt_Quiz\", 1).otherwise(0)).alias(\"quizzes_attempted\"),\n",
    "    F.countDistinct(F.when(F.col(\"activity_type\") == \"Complete_Course\", F.col(\"course_id\"))).alias(\"courses_completed\")\n",
    ")\n",
    "\n",
    "student_behavior_df.show()"
   ]
  },
  {
   "cell_type": "code",
   "execution_count": null,
   "id": "6c528c0c-0d64-47dd-ba77-6f33ba9f7c54",
   "metadata": {},
   "outputs": [],
   "source": []
  }
 ],
 "metadata": {
  "kernelspec": {
   "display_name": "Python 3 (ipykernel)",
   "language": "python",
   "name": "python3"
  },
  "language_info": {
   "codemirror_mode": {
    "name": "ipython",
    "version": 3
   },
   "file_extension": ".py",
   "mimetype": "text/x-python",
   "name": "python",
   "nbconvert_exporter": "python",
   "pygments_lexer": "ipython3",
   "version": "3.10.18"
  }
 },
 "nbformat": 4,
 "nbformat_minor": 5
}
