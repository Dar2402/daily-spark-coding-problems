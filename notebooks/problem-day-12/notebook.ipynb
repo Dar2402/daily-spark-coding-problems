{
 "cells": [
  {
   "cell_type": "code",
   "execution_count": 1,
   "id": "c4269270-8b8d-4a1d-9108-4bf95f7c2251",
   "metadata": {},
   "outputs": [],
   "source": [
    "from pyspark.sql import SparkSession\n",
    "from pyspark.sql import functions as F, Window as W\n",
    "from pyspark.sql.types import StructType, StructField, StringType, DateType, IntegerType\n",
    "from datetime import datetime"
   ]
  },
  {
   "cell_type": "code",
   "execution_count": 2,
   "id": "d0f9f05c-3b09-4071-87c4-2c9e46e96e93",
   "metadata": {},
   "outputs": [],
   "source": [
    "spark = SparkSession.builder.appName(\"DailyCodingProblem-day-11\").getOrCreate()"
   ]
  },
  {
   "cell_type": "code",
   "execution_count": null,
   "id": "09dea904-5950-4696-a6af-9e75d28d46fd",
   "metadata": {},
   "outputs": [],
   "source": []
  }
 ],
 "metadata": {
  "kernelspec": {
   "display_name": "Python 3 (ipykernel)",
   "language": "python",
   "name": "python3"
  },
  "language_info": {
   "codemirror_mode": {
    "name": "ipython",
    "version": 3
   },
   "file_extension": ".py",
   "mimetype": "text/x-python",
   "name": "python",
   "nbconvert_exporter": "python",
   "pygments_lexer": "ipython3",
   "version": "3.10.18"
  }
 },
 "nbformat": 4,
 "nbformat_minor": 5
}
