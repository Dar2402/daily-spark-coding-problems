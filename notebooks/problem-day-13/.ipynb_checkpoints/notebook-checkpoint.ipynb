{
 "cells": [
  {
   "cell_type": "code",
   "execution_count": 1,
   "id": "e32f5763-6792-45ee-b55e-00f6fd506578",
   "metadata": {},
   "outputs": [],
   "source": [
    "from pyspark.sql import SparkSession\n",
    "from pyspark.sql import functions as F, Window as W\n",
    "from pyspark.sql.types import StructType, StructField, StringType, DateType, IntegerType\n",
    "from datetime import datetime"
   ]
  },
  {
   "cell_type": "code",
   "execution_count": 3,
   "id": "94792051-0515-4564-8edf-17e4b34cc6d2",
   "metadata": {},
   "outputs": [],
   "source": [
    "spark = SparkSession.builder.appName(\"DailyCodingProblem-day-12\").getOrCreate()"
   ]
  },
  {
   "cell_type": "markdown",
   "id": "df9e8806-fc4d-465f-b42b-a6a788229df1",
   "metadata": {},
   "source": [
    "# 📝 Problem 1: PySpark – Identify Peak Sales Day per Product\n",
    "\n",
    "### **Problem Statement**\n",
    "\n",
    "You have a PySpark DataFrame containing daily sales data for multiple products. Write a PySpark program to **find the date with the highest sales for each product**.\n",
    "\n",
    "### **Sample Input** (`product_sales`)\n",
    "\n",
    "| product | sale\\_date | sales |\n",
    "| ------- | ---------- | ----- |\n",
    "| Laptop  | 2025-01-01 | 100   |\n",
    "| Laptop  | 2025-01-02 | 250   |\n",
    "| Laptop  | 2025-01-03 | 200   |\n",
    "| Phone   | 2025-01-01 | 300   |\n",
    "| Phone   | 2025-01-02 | 150   |\n",
    "| Phone   | 2025-01-03 | 400   |\n",
    "\n",
    "### **Expected Output**\n",
    "\n",
    "| product | peak\\_sale\\_date | peak\\_sales |\n",
    "| ------- | ---------------- | ----------- |\n",
    "| Laptop  | 2025-01-02       | 250         |\n",
    "| Phone   | 2025-01-03       | 400         |\n",
    "\n",
    "---"
   ]
  },
  {
   "cell_type": "code",
   "execution_count": 8,
   "id": "62da4f96-2d06-4101-bfa8-e0fd71c8f2b2",
   "metadata": {},
   "outputs": [],
   "source": [
    "data = [\n",
    "    (\"Laptop\", \"2025-01-01\", 100),\n",
    "    (\"Laptop\", \"2025-01-02\", 250),\n",
    "    (\"Laptop\", \"2025-01-03\", 200),\n",
    "    (\"Phone\",  \"2025-01-01\", 300),\n",
    "    (\"Phone\",  \"2025-01-02\", 150),\n",
    "    (\"Phone\",  \"2025-01-03\", 400),\n",
    "]\n",
    "\n",
    "schema = StructType([\n",
    "    StructField(\"product\", StringType(), True),\n",
    "    StructField(\"sale_date\", StringType(), True), \n",
    "    StructField(\"sales\", IntegerType(), True)\n",
    "])\n",
    "\n",
    "df = spark.createDataFrame(data, schema)"
   ]
  },
  {
   "cell_type": "code",
   "execution_count": 9,
   "id": "34073b33-ad6b-4385-b6b2-c28a268bf031",
   "metadata": {},
   "outputs": [],
   "source": [
    "df = df.withColumn(\n",
    "    \"sale_date\",\n",
    "    F.to_date(\"sale_date\")\n",
    ")"
   ]
  },
  {
   "cell_type": "code",
   "execution_count": 18,
   "id": "f716e19f-ccd2-4826-bc53-93301b2e0876",
   "metadata": {},
   "outputs": [],
   "source": [
    "w = W.partitionBy(\"product\").orderBy(F.col(\"sales\").desc())"
   ]
  },
  {
   "cell_type": "code",
   "execution_count": 23,
   "id": "4ee56058-9daf-447c-b696-f60d2cecc60a",
   "metadata": {},
   "outputs": [
    {
     "name": "stdout",
     "output_type": "stream",
     "text": [
      "+-------+--------------+----------+\n",
      "|product|peak_sale_date|peak_sales|\n",
      "+-------+--------------+----------+\n",
      "| Laptop|    2025-01-02|       250|\n",
      "|  Phone|    2025-01-03|       400|\n",
      "+-------+--------------+----------+\n",
      "\n"
     ]
    }
   ],
   "source": [
    "peak_sale_df = df.withColumn(\n",
    "    \"rank\",\n",
    "    F.dense_rank().over(w)\n",
    ").filter(\n",
    "    F.col(\"rank\") == 1\n",
    ").withColumnRenamed(\n",
    "    \"sale_date\",\n",
    "    \"peak_sale_date\"\n",
    ").withColumnRenamed(\n",
    "    \"sales\",\n",
    "    \"peak_sales\"\n",
    ").drop(\"rank\")\n",
    "\n",
    "peak_sale_df.show()"
   ]
  },
  {
   "cell_type": "code",
   "execution_count": null,
   "id": "88369b2a-078b-44d1-8299-a3f4c4d17332",
   "metadata": {},
   "outputs": [],
   "source": []
  }
 ],
 "metadata": {
  "kernelspec": {
   "display_name": "Python 3 (ipykernel)",
   "language": "python",
   "name": "python3"
  },
  "language_info": {
   "codemirror_mode": {
    "name": "ipython",
    "version": 3
   },
   "file_extension": ".py",
   "mimetype": "text/x-python",
   "name": "python",
   "nbconvert_exporter": "python",
   "pygments_lexer": "ipython3",
   "version": "3.10.18"
  }
 },
 "nbformat": 4,
 "nbformat_minor": 5
}
